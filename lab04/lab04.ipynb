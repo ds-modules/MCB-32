{
 "cells": [
  {
   "cell_type": "markdown",
   "metadata": {},
   "source": [
    "# MCB 32L: Lab 04 - Muscle Excitability and Contractility\n",
    " \n",
    "---\n",
    "\n",
    "### Professor Robin Ball\n",
    "\n",
    "During this lab, you will get more practice using Python and creating graphs.\n",
    "\n",
    "*Estimated Time: ~30 mins*\n",
    "\n",
    "---\n",
    "\n",
    "### Table of Contents\n",
    "\n",
    "1. [Entering your data](#section-1)<br>\n",
    "2. [Graphing your data](#section-2)<br>"
   ]
  },
  {
   "cell_type": "code",
   "execution_count": null,
   "metadata": {},
   "outputs": [],
   "source": [
    "#Run this cell first! Everytime you come back to this notebook, you need to run this cell again.\n",
    "from datascience import *\n",
    "import pandas as pd\n",
    "import numpy as np\n",
    "import matplotlib.pyplot as plt \n",
    "from table import *\n",
    "%matplotlib inline\n",
    "plt.style.use(\"fivethirtyeight\")\n",
    "grid_options = {\"forceFitColumns\" : False, \"defaultColumnWidth\" : 175}"
   ]
  },
  {
   "cell_type": "markdown",
   "metadata": {},
   "source": [
    "## 1. Entering your data <a id='section-1'></a>\n",
    "Before you can graph your data, you must enter it into the computer. The cell below will load a spreadsheet with each cell filled with the value NaN ."
   ]
  },
  {
   "cell_type": "markdown",
   "metadata": {},
   "source": [
    "<div class='alert alert-info'>\n",
    "    \n",
    "**QUESTION:** Enter your data from Table 1 into the spreadsheet shown after you run the cell below. Note that if you accidentally run the cell below again, you will lose the data that you previously typed in.\n",
    "\n",
    "Recall from Lab 0 that you can also make a data table by making a series of lists and then combining them into a table. We think it is easier to enter the data into the grid here, but if you want to make a table from lists there are hints about how to do that below.    \n",
    "</div>"
   ]
  },
  {
   "cell_type": "code",
   "execution_count": null,
   "metadata": {},
   "outputs": [],
   "source": [
    "# Enter data for subject 1\n",
    "\n",
    "table_1_1_empty = pd.read_csv(\"empty-table-1-1.csv\")\n",
    "rows, cols = table_1_1_empty.shape\n",
    "table_1_1_sheet = make_table(rows, cols, list(table_1_1_empty.columns))"
   ]
  },
  {
   "cell_type": "markdown",
   "metadata": {},
   "source": [
    "The cell below will take your data and transfer it into a Table for you. Please verify that your data is correct."
   ]
  },
  {
   "cell_type": "code",
   "execution_count": null,
   "metadata": {},
   "outputs": [],
   "source": [
    "table_1_1 = get_table(table_1_1_sheet)\n",
    "table_1_1"
   ]
  },
  {
   "cell_type": "code",
   "execution_count": null,
   "metadata": {},
   "outputs": [],
   "source": [
    "#Enter data for subject 2\n",
    "\n",
    "table_1_2_empty = pd.read_csv(\"empty-table-1-2.csv\")\n",
    "rows, cols = table_1_2_empty.shape\n",
    "table_1_2_sheet = make_table(rows, cols, list(table_1_2_empty.columns))"
   ]
  },
  {
   "cell_type": "code",
   "execution_count": null,
   "metadata": {},
   "outputs": [],
   "source": [
    "table_1_2 = get_table(table_1_2_sheet)\n",
    "table_1_2"
   ]
  },
  {
   "cell_type": "markdown",
   "metadata": {},
   "source": [
    "Now let's put these tables together!\n",
    "\n",
    "Just Run the cell below!"
   ]
  },
  {
   "cell_type": "code",
   "execution_count": null,
   "metadata": {},
   "outputs": [],
   "source": [
    "table_1 = merge(table_1_1, table_1_2)\n",
    "table_1"
   ]
  },
  {
   "cell_type": "markdown",
   "metadata": {},
   "source": [
    "Only run the cell below if you want to use lists to enter your data into the table. You will need to remove the \"#\" from the coding lines. Follow the directions in the cell below if you want to use lists."
   ]
  },
  {
   "cell_type": "code",
   "execution_count": null,
   "metadata": {},
   "outputs": [],
   "source": [
    "# If you prefer to make a table from lists, you can delete the \"#\" from the next lines\n",
    "# and enter your numbers in order in the brackets, separated by commas\n",
    "# Follow the pattern to make lists for the rest of your data\n",
    "\n",
    "#stim_amp_1 = [...]\n",
    "#twitch_dur_1 = [...]\n",
    "\n",
    "\n",
    "# Now make a table from your lists. Enter the name of the column followed by the list you \n",
    "# want to put into that column\n",
    "\n",
    "#table_1 = Table().with_columns(\"Stimulus Amplitude 1\", stim_amp_1, \"Twitch Duration 1\", twitch_dur_1, ...)"
   ]
  },
  {
   "cell_type": "markdown",
   "metadata": {},
   "source": [
    "<div class='alert alert-info'>\n",
    "    \n",
    " **QUESTION:** Enter your data from Table 4 into the spreadsheet shown after you run the cell below. \n",
    "    \n",
    "Again, if you prefer to enter the data as lists, follow the directions above but for Table 4. You can always insert a new cell from the Insert menu.     \n",
    "\n",
    "</div>"
   ]
  },
  {
   "cell_type": "code",
   "execution_count": null,
   "metadata": {},
   "outputs": [],
   "source": [
    "table_4_df = make_table(rows = 5, cols = 2, labels = [\"Frequency (Hz)\",\"Twitch Tension\"])"
   ]
  },
  {
   "cell_type": "markdown",
   "metadata": {},
   "source": [
    "The cell below will take your data and transfer it into a Table for you. Please verify that your data is correct.\n",
    "</div>"
   ]
  },
  {
   "cell_type": "code",
   "execution_count": null,
   "metadata": {},
   "outputs": [],
   "source": [
    "table_4 = get_table(table_4_df)\n",
    "table_4"
   ]
  },
  {
   "cell_type": "markdown",
   "metadata": {},
   "source": [
    "## 2. Graphing your data <a id='section-2'></a>\n",
    "\n",
    "We're interested in a function called `plot`, which makes line graphs. We can tell the computer to find `plot` in the `plt` module using what's called *dot notation*:"
   ]
  },
  {
   "cell_type": "code",
   "execution_count": null,
   "metadata": {},
   "outputs": [],
   "source": [
    "# use the plot function\n",
    "plt.plot()"
   ]
  },
  {
   "cell_type": "markdown",
   "metadata": {},
   "source": [
    "`plot` needs to get data to plot as its arguments. In this case, we can give it the lists of data we made earlier. The data goes inside the parentheses: the data that goes on the x-axis is the first argument, and the data that goes on the y-axis is the second.\n",
    "\n",
    "Here's an example of how to plot Stimulus Amplitude against Twitch Duration for Subject 1. Stimulus Amplitude is on the x-axis, so it goes first in the parentheses."
   ]
  },
  {
   "cell_type": "code",
   "execution_count": null,
   "metadata": {},
   "outputs": [],
   "source": [
    "# create a line plot of data for subject 1\n",
    "plt.plot(table_1[\"Stimulus Amplitude 1\"], table_1[\"Twitch Duration 1\"])\n",
    "\n",
    "# a function to show the line plot\n",
    "plt.show()"
   ]
  },
  {
   "cell_type": "markdown",
   "metadata": {},
   "source": [
    "Note how we accessed the values in our table as this will be important later on. To access a column of the table, use the bracket notation (known as \"slicing\"):\n",
    "\n",
    "```python\n",
    "table[\"Column Name\"]\n",
    "```\n",
    "\n",
    "The cell below will access the stimulus amplitude for subject 2:"
   ]
  },
  {
   "cell_type": "code",
   "execution_count": null,
   "metadata": {},
   "outputs": [],
   "source": [
    "table_1[\"Stimulus Amplitude 2\"]"
   ]
  },
  {
   "cell_type": "markdown",
   "metadata": {},
   "source": [
    "As good scientists, we know that this graph is missing a lot. Our axes, graph, and line should all be labeled. Fortunately, the `plt` module has functions to do all of those things. \n",
    "\n",
    "Read over the call expressions in the next cell to figure out what each does, then run the cell to make the graph.\n",
    "\n",
    "<div class=\"alert alert-warning\">\n",
    "\n",
    "Note that we put labels and titles in quotation marks. This tells the computer that they are text data (also called *strings*). If we didn't put them in quotes, the computer would think they are variables, then throw a fit when it couldn't find what they stood for.\n",
    "\n",
    "</div>"
   ]
  },
  {
   "cell_type": "code",
   "execution_count": null,
   "metadata": {},
   "outputs": [],
   "source": [
    "# create the line plot for subject 1\n",
    "plt.plot(table_1[\"Stimulus Amplitude 1\"], table_1[\"Twitch Duration 1\"], label=\"Subject 1\")\n",
    "\n",
    "# label the x-axis\n",
    "plt.xlabel(\"Stimulus amplitude (mA)\")\n",
    "\n",
    "# label the y-axis\n",
    "plt.ylabel(\"Twitch duration (ms)\")\n",
    "\n",
    "# title the graph\n",
    "plt.title(\"Twitch duration vs. stimulus strength\")\n",
    "\n",
    "# show the legend\n",
    "plt.legend()\n",
    "\n",
    "# show the plot\n",
    "plt.show()"
   ]
  },
  {
   "cell_type": "markdown",
   "metadata": {},
   "source": [
    "Now it's time to create your graphs!\n",
    "\n",
    "<div class='alert alert-info'>\n",
    "    \n",
    "**QUESTION:** Using the functions you learned in the past and the refresher above, create a line plot of your data. Make one graph from Table 1 of twitch tension vs stimulus amplitude that includes lines for both subjects. Then make another line plot from Table 4 of twitch tension vs the frequency of stimulation.\n",
    "\n",
    "</div>"
   ]
  },
  {
   "cell_type": "code",
   "execution_count": null,
   "metadata": {},
   "outputs": [],
   "source": [
    "#Graph of table 1, twitch tension vs stimulus amplitude for both subjects \n",
    "#Hint: you will need to run the plt.plot function twice, once for each subject\n",
    "\n",
    "..."
   ]
  },
  {
   "cell_type": "code",
   "execution_count": null,
   "metadata": {},
   "outputs": [],
   "source": [
    "#Graph of table 4, twitch tension vs the frequency of stimulation\n",
    "\n",
    "..."
   ]
  },
  {
   "cell_type": "markdown",
   "metadata": {},
   "source": [
    "<div class='alert alert-warning'>\n",
    "If you are not getting a nice trend line, check that your data has been entered in order of increasing frequency.\n",
    "</div>"
   ]
  },
  {
   "cell_type": "markdown",
   "metadata": {},
   "source": [
    "### Saving the Notebook as an html file\n",
    "\n",
    "Congrats on finishing your lab notebook. To turn in this lab assignment follow the steps below:\n",
    "\n",
    ">1. Go to the File menu\n",
    "2. Go to 'Save and Export Notebook As...'\n",
    "3. Select HTML (.html)\n",
    "4. Upload your complete notebook in the lab 4 assignment on bCourses."
   ]
  },
  {
   "cell_type": "markdown",
   "metadata": {},
   "source": [
    "---\n",
    "Notebook developed by: Monica Wilkinson and Chris Pyles\n",
    "\n",
    "Data Science Modules: http://data.berkeley.edu/education/modules\n"
   ]
  },
  {
   "cell_type": "markdown",
   "metadata": {},
   "source": [
    " "
   ]
  }
 ],
 "metadata": {
  "anaconda-cloud": {},
  "kernelspec": {
   "display_name": "Python 3 (ipykernel)",
   "language": "python",
   "name": "python3"
  },
  "language_info": {
   "codemirror_mode": {
    "name": "ipython",
    "version": 3
   },
   "file_extension": ".py",
   "mimetype": "text/x-python",
   "name": "python",
   "nbconvert_exporter": "python",
   "pygments_lexer": "ipython3",
   "version": "3.9.15"
  },
  "varInspector": {
   "cols": {
    "lenName": 16,
    "lenType": 16,
    "lenVar": 40
   },
   "kernels_config": {
    "python": {
     "delete_cmd_postfix": "",
     "delete_cmd_prefix": "del ",
     "library": "var_list.py",
     "varRefreshCmd": "print(var_dic_list())"
    },
    "r": {
     "delete_cmd_postfix": ") ",
     "delete_cmd_prefix": "rm(",
     "library": "var_list.r",
     "varRefreshCmd": "cat(var_dic_list()) "
    }
   },
   "types_to_exclude": [
    "module",
    "function",
    "builtin_function_or_method",
    "instance",
    "_Feature"
   ],
   "window_display": false
  }
 },
 "nbformat": 4,
 "nbformat_minor": 1
}
