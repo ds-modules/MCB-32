{
 "cells": [
  {
   "cell_type": "markdown",
   "metadata": {},
   "source": [
    "# [MCB 32]: Lab 04 - Muscle Excitability and Contractility\n",
    " \n",
    "---\n",
    "\n",
    "### Professor Robin Ball\n",
    "\n",
    "During this lab, you will get more practice using Python and creating graphs.\n",
    "\n",
    "*Estimated Time: ~1 Hour*\n",
    "\n",
    "---\n",
    "\n",
    "### Table of Contents\n",
    "\n",
    "1. [Entering your data](#section 1)<br>\n",
    "\n",
    "2. [Graphing your data](#section 2)<br>"
   ]
  },
  {
   "cell_type": "markdown",
   "metadata": {},
   "source": [
    "## Entering your data <a id='section 1'></a>\n",
    "Before you can graph your data, you must enter it into the computer.\n",
    "<div class='alert alert-info'>\n",
    "**QUESTION:** Enter your data from Table 4 into two lists. Remember to use variable names that make it easy to remember and interpret what information your lists contain.\n",
    "</div>"
   ]
  },
  {
   "cell_type": "code",
   "execution_count": null,
   "metadata": {
    "collapsed": true
   },
   "outputs": [],
   "source": [
    "# Frequency (Hz)\n",
    "... = ...\n",
    "\n",
    "# Twitch Tension\n",
    "... = ..."
   ]
  },
  {
   "cell_type": "markdown",
   "metadata": {},
   "source": [
    "## Graphing your data <a id='section 2'></a>\n",
    "Now it's time to create your graph!\n",
    "<div class='alert alert-info'>\n",
    "**QUESTION:** Using the functions you learned in lab 2, create a line plot of your data.\n",
    "</div>"
   ]
  },
  {
   "cell_type": "code",
   "execution_count": null,
   "metadata": {
    "collapsed": true
   },
   "outputs": [],
   "source": [
    "..."
   ]
  },
  {
   "cell_type": "markdown",
   "metadata": {},
   "source": [
    "<div class='alert alert-warning'>\n",
    "If you are not getting a nice trend line, check that your data has been entered in order of increasing frequency.\n",
    "</div>"
   ]
  },
  {
   "cell_type": "markdown",
   "metadata": {},
   "source": [
    "---\n",
    "Notebook developed by: Monica Wilkinson\n",
    "\n",
    "Data Science Modules: http://data.berkeley.edu/education/modules\n"
   ]
  }
 ],
 "metadata": {
  "anaconda-cloud": {},
  "kernelspec": {
   "display_name": "Python 3",
   "language": "python",
   "name": "python3"
  },
  "language_info": {
   "codemirror_mode": {
    "name": "ipython",
    "version": 3
   },
   "file_extension": ".py",
   "mimetype": "text/x-python",
   "name": "python",
   "nbconvert_exporter": "python",
   "pygments_lexer": "ipython3",
   "version": "3.6.8"
  }
 },
 "nbformat": 4,
 "nbformat_minor": 1
}
