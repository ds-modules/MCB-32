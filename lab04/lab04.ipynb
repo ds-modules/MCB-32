{
 "cells": [
  {
   "cell_type": "markdown",
   "metadata": {},
   "source": [
    "# [MCB 32]: Lab 04 - Muscle Excitability and Contractility\n",
    " \n",
    "---\n",
    "\n",
    "### Professor Robin Ball\n",
    "\n",
    "During this lab, you will get more practice using Python and creating graphs.\n",
    "\n",
    "*Estimated Time: ~1 Hour*\n",
    "\n",
    "---\n",
    "\n",
    "### Table of Contents\n",
    "\n",
    "1. [Entering your data](#section 1)<br>\n",
    "\n",
    "2. [Graphing your data](#section 2)<br>"
   ]
  },
  {
   "cell_type": "code",
   "execution_count": null,
   "metadata": {},
   "outputs": [],
   "source": [
    "from datascience import *\n",
    "import pandas as pd\n",
    "import numpy as np\n",
    "import qgrid\n",
    "import matplotlib.pyplot as plt\n",
    "%matplotlib inline\n",
    "plt.style.use(\"fivethirtyeight\")\n",
    "grid_options = {\"forceFitColumns\" : False, \"defaultColumnWidth\" : 175}"
   ]
  },
  {
   "cell_type": "markdown",
   "metadata": {},
   "source": [
    "## Entering your data <a id='section 1'></a>\n",
    "Before you can graph your data, you must enter it into the computer. The cell below will load a spreadsheet with each cell filled with the value `NaN`.\n",
    "\n",
    "<div class='alert alert-info'>\n",
    "    \n",
    "**QUESTION:** Enter your data from Table 1 into the spreadsheet shown after you run the cell below. You should replace the `NaN` in each cell.\n",
    "\n",
    "</div>"
   ]
  },
  {
   "cell_type": "code",
   "execution_count": null,
   "metadata": {},
   "outputs": [],
   "source": [
    "table_1_df = pd.read_csv(\"empty-table-1.csv\")\n",
    "table_1_sheet = qgrid.show_grid(table_1_df, show_toolbar=True, grid_options=grid_options)\n",
    "table_1_sheet"
   ]
  },
  {
   "cell_type": "markdown",
   "metadata": {},
   "source": [
    "The cell below will take your data and transfer it into a Table for you. Please verify that your data is correct."
   ]
  },
  {
   "cell_type": "code",
   "execution_count": null,
   "metadata": {},
   "outputs": [],
   "source": [
    "table_1_df = table_1_sheet.get_changed_df()\n",
    "table_1 = Table.from_df(table_1_df)\n",
    "table_1"
   ]
  },
  {
   "cell_type": "markdown",
   "metadata": {},
   "source": [
    "<div class='alert alert-info'>\n",
    "    \n",
    "**QUESTION:** Enter your data from Table 4 into the spreadsheet shown after you run the cell below. You should replace the `NaN` in each cell.\n",
    "\n",
    "</div>"
   ]
  },
  {
   "cell_type": "code",
   "execution_count": null,
   "metadata": {},
   "outputs": [],
   "source": [
    "table_4_df = pd.read_csv(\"empty-table-4.csv\")\n",
    "table_4_sheet = qgrid.show_grid(table_4_df, show_toolbar=True, grid_options=grid_options)\n",
    "table_4_sheet"
   ]
  },
  {
   "cell_type": "markdown",
   "metadata": {},
   "source": [
    "The cell below will take your data and transfer it into a Table for you. Please verify that your data is correct."
   ]
  },
  {
   "cell_type": "code",
   "execution_count": null,
   "metadata": {},
   "outputs": [],
   "source": [
    "table_4_df = table_4_sheet.get_changed_df()\n",
    "table_4 = Table.from_df(table_4_df)\n",
    "table_4"
   ]
  },
  {
   "cell_type": "markdown",
   "metadata": {},
   "source": [
    "## Graphing your data <a id='section 2'></a>\n",
    "\n",
    "We're interested in a function called `plot`, which makes line graphs. We can tell the computer to find `plot` in the `plt` module using what's called *dot notation*:"
   ]
  },
  {
   "cell_type": "code",
   "execution_count": null,
   "metadata": {},
   "outputs": [],
   "source": [
    "# use the plot function\n",
    "plt.plot()"
   ]
  },
  {
   "cell_type": "markdown",
   "metadata": {},
   "source": [
    "`plot` needs to get data to plot as its arguments. In this case, we can give it the lists of data we made earlier. The data goes inside the parentheses: the data that goes on the x-axis is the first argument, and the data that goes on the y-axis is the second.\n",
    "\n",
    "Here's an example of how to plot Stimulus Amplitude against Stimulus Duration for Subject 1. Stimulus Amplitude is on the x-axis, so it goes first in the parentheses."
   ]
  },
  {
   "cell_type": "code",
   "execution_count": null,
   "metadata": {},
   "outputs": [],
   "source": [
    "# create a line plot of data for subject 1\n",
    "plt.plot(table_1[\"Stimulus Amplitude 1\"], table_1[\"Twitch Duration 1\"])\n",
    "\n",
    "# a function to show the line plot\n",
    "plt.show()"
   ]
  },
  {
   "cell_type": "markdown",
   "metadata": {},
   "source": [
    "Note how we accessed the values in our table as this will be important later on. To access a column of the table, use the bracket notation (known as \"slicing\"):\n",
    "\n",
    "```python\n",
    "table[\"Column Name\"]\n",
    "```\n",
    "\n",
    "The cell below will access the stimulus amplitude for subject 2:"
   ]
  },
  {
   "cell_type": "code",
   "execution_count": null,
   "metadata": {},
   "outputs": [],
   "source": [
    "table_1[\"Stimulus Amplitude 2\"]"
   ]
  },
  {
   "cell_type": "markdown",
   "metadata": {},
   "source": [
    "As good scientists, we know that this graph is missing a lot. Our axes, graph, and line should all be labeled. Fortunately, the `plt` module has functions to do all of those things. \n",
    "\n",
    "Read over the call expressions in the next cell to figure out what each does, then run the cell to make the graph.\n",
    "\n",
    "<div class=\"alert alert-warning\">\n",
    "\n",
    "Note that we put labels and titles in quotation marks. This tells the computer that they are text data (also called *strings*). If we didn't put them in quotes, the computer would think they are variables, then throw a fit when it couldn't find what they stood for.\n",
    "\n",
    "</div>"
   ]
  },
  {
   "cell_type": "code",
   "execution_count": null,
   "metadata": {},
   "outputs": [],
   "source": [
    "# create the line plot for subject 1\n",
    "plt.plot(table_1[\"Stimulus Amplitude 1\"], table_1[\"Twitch Duration 1\"], label=\"Subject 1\")\n",
    "\n",
    "# label the x-axis\n",
    "plt.xlabel(\"Stimulus amplitude (mA)\")\n",
    "\n",
    "# label the y-axis\n",
    "plt.ylabel(\"Twitch duration (sec)\")\n",
    "\n",
    "# title the graph\n",
    "plt.title(\"Twitch size vs. stimulus strength\")\n",
    "\n",
    "# show the legend\n",
    "plt.legend()\n",
    "\n",
    "# show the plot\n",
    "plt.show()"
   ]
  },
  {
   "cell_type": "markdown",
   "metadata": {},
   "source": [
    "Now it's time to create your graph!\n",
    "\n",
    "<div class='alert alert-info'>\n",
    "    \n",
    "**QUESTION:** Using the functions you learned in lab 2 and the refresher above, create a line plot of your data. Make one graph from Table 1 of twitch tension vs stimulus amplitude that includes lines for both subjects. Then make another line plot from Table 4 of twitch tension vs the frequency of stimulation.\n",
    "\n",
    "</div>"
   ]
  },
  {
   "cell_type": "code",
   "execution_count": null,
   "metadata": {},
   "outputs": [],
   "source": [
    "..."
   ]
  },
  {
   "cell_type": "markdown",
   "metadata": {},
   "source": [
    "<div class='alert alert-warning'>\n",
    "If you are not getting a nice trend line, check that your data has been entered in order of increasing frequency.\n",
    "</div>"
   ]
  },
  {
   "cell_type": "markdown",
   "metadata": {},
   "source": [
    "---\n",
    "Notebook developed by: Monica Wilkinson and Chris Pyles\n",
    "\n",
    "Data Science Modules: http://data.berkeley.edu/education/modules\n"
   ]
  },
  {
   "cell_type": "markdown",
   "metadata": {},
   "source": [
    " "
   ]
  }
 ],
 "metadata": {
  "anaconda-cloud": {},
  "kernelspec": {
   "display_name": "Python 3",
   "language": "python",
   "name": "python3"
  },
  "language_info": {
   "codemirror_mode": {
    "name": "ipython",
    "version": 3
   },
   "file_extension": ".py",
   "mimetype": "text/x-python",
   "name": "python",
   "nbconvert_exporter": "python",
   "pygments_lexer": "ipython3",
   "version": "3.6.5"
  },
  "varInspector": {
   "cols": {
    "lenName": 16,
    "lenType": 16,
    "lenVar": 40
   },
   "kernels_config": {
    "python": {
     "delete_cmd_postfix": "",
     "delete_cmd_prefix": "del ",
     "library": "var_list.py",
     "varRefreshCmd": "print(var_dic_list())"
    },
    "r": {
     "delete_cmd_postfix": ") ",
     "delete_cmd_prefix": "rm(",
     "library": "var_list.r",
     "varRefreshCmd": "cat(var_dic_list()) "
    }
   },
   "types_to_exclude": [
    "module",
    "function",
    "builtin_function_or_method",
    "instance",
    "_Feature"
   ],
   "window_display": false
  }
 },
 "nbformat": 4,
 "nbformat_minor": 1
}
