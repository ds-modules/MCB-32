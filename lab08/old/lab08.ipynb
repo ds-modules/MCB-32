{
 "cells": [
  {
   "cell_type": "markdown",
   "metadata": {},
   "source": [
    "# MCB 32: Lab 08 - Exercise Physiology\n",
    " \n",
    "---\n",
    "\n",
    "### Professor Robin Ball \n",
    "\n",
    "Using what you learned, you will create tables for the data you collected in this lab as well as the averaged class data. You will also graph the class data, so it is easier to visualize and find major trends. \n",
    "\n",
    "*Estimated Time: ~60 Minutes*\n",
    "\n",
    "---\n",
    "\n",
    "### Table of Contents\n",
    "\n",
    "\n",
    "1.[Data Analysis](#section-1)<br>\n",
    "&nbsp;&nbsp;&nbsp; a. [Entering and Naming your data](#section-1a)<br>\n",
    "&nbsp;&nbsp;&nbsp; b. [Calculating SV and CO](#section-1b)<br>\n",
    "&nbsp;&nbsp;&nbsp; c. [Calculating MAP and TPR](#section-1c)"
   ]
  },
  {
   "cell_type": "markdown",
   "metadata": {},
   "source": [
    "#### Completing the Notebooks\n",
    "\n",
    "\n",
    "<div class=\"alert alert-info\"> \n",
    "\n",
    "**QUESTION** cells are in blue and ask you to enter in lab data, make graphs, or do other lab tasks. To receive full credit for your lab, you must complete all **QUESTION** cells. **NOTE** cells are also in blue and present important information.\n",
    "\n",
    "\n",
    "</div>\n",
    "\n"
   ]
  },
  {
   "cell_type": "code",
   "execution_count": null,
   "metadata": {},
   "outputs": [],
   "source": [
    "%matplotlib inline \n",
    "from datascience import *\n",
    "import numpy as np\n",
    "import matplotlib.pyplot as plt\n",
    "from table import *"
   ]
  },
  {
   "cell_type": "markdown",
   "metadata": {},
   "source": [
    "# 1. Data Analysis <a id='section-1'></a>\n",
    "\n",
    "### 1a. Entering your data <a id='section-1a'></a>\n",
    "\n",
    "<div class=\"alert alert-block alert-info\">\n",
    "    \n",
    "**QUESTION:** Enter your data for Table 3 in the spreadsheet generated in the cell below. Note that \"HR\" stands for heart rate, \"Ps\" for systolic pressure, and \"Pd\" for diastolic pressure.\n",
    "\n",
    "</div>"
   ]
  },
  {
   "cell_type": "markdown",
   "metadata": {},
   "source": [
    "#### Table 3: Calculations for bicycle or other step exercise\n",
    "\n",
    "<div class=\"alert alert-warning\">\n",
    "    \n",
    "For the `Power Output (W)` column, calculate the value as instructed in the lab manual. If you do not need this column, leave it as-is. It will not affect your calculations later.\n",
    "    \n",
    "</div>"
   ]
  },
  {
   "cell_type": "code",
   "execution_count": null,
   "metadata": {},
   "outputs": [],
   "source": [
    "table_3_grid = make_table(3, 5, [\"Condition\", \"Power Output (W)\", \"HR (beats/min)\", \"Ps (mmHg)\", \"Pd (mmHg)\"], \n",
    "                             values = {\n",
    "    \"Condition\" : [\"Resting\", \"Light resistance\", \"Moderate resistance\"]\n",
    "})"
   ]
  },
  {
   "cell_type": "markdown",
   "metadata": {},
   "source": [
    "### 1b. Calculating SV and CO <a id='section-1b'></a>\n",
    "\n",
    "We will now calculate the stroke volume and cardiac output using your data. To begin, run the cell below to extract the data you input into the spreadsheet."
   ]
  },
  {
   "cell_type": "code",
   "execution_count": null,
   "metadata": {},
   "outputs": [],
   "source": [
    "table_3 = get_table(table_3_grid)\n",
    "table_3"
   ]
  },
  {
   "cell_type": "markdown",
   "metadata": {},
   "source": [
    "Recall from the lab manual that the stroke volume $SV$ and the cardiac output $CO$ have the following formulas:\n",
    "\n",
    "$$SV = 1.7 \\times (Ps - Pd)$$\n",
    "\n",
    "$$CO = SV \\times HR = 1.7 \\times (Ps - Pd) \\times HR$$\n",
    "\n",
    "Recall that SV is measured in ml/beat and CO in ml/min.\n",
    "\n",
    "In order to calculate the SV and CO, we will start by defining two functions which take in arrays of Ps and Pd values and return another array of SV values and CO values. \n",
    "\n",
    "**A quick note on array calculations:** When you are doing calculations on arrays, any binary operators (e.g. +, -, \\*, \\/\\) that you use will be **broadcast** to the rest of the array. For example,\n",
    "\n",
    "```python\n",
    "arr = make_array(1, 2, 3, 4)\n",
    "2 * arr     # returns array([2, 4, 6, 8])\n",
    "arr + 5     # returns array([6, 7, 8, 9])\n",
    "```\n",
    "\n",
    "If you use these operators on two arrays, then the operation will be performed elementwise on the two arrays:\n",
    "\n",
    "```python\n",
    "arr1 = make_array(1, 2, 3, 4)\n",
    "arr2 = make_array(5, 6, 7, 8)\n",
    "arr1 + arr2     # returns array([6, 8, 10, 12])\n",
    "```\n",
    "\n",
    "Utilize these facts when you create your functions below."
   ]
  },
  {
   "cell_type": "markdown",
   "metadata": {},
   "source": [
    "<div class=\"alert alert-info\">\n",
    "\n",
    "**QUESTION:** Fill in the function definitions below to create `stroke_volume` and `cardiac_output` which take in arrays of Ps, Pd, and HR values and return arrays of the SV and CO, respectively. *Your `cardiac_output` function should call your `stroke_volume` function.*\n",
    "\n",
    "</div>"
   ]
  },
  {
   "cell_type": "code",
   "execution_count": null,
   "metadata": {},
   "outputs": [],
   "source": [
    "def stroke_volume(Ps, Pd):\n",
    "    return ..."
   ]
  },
  {
   "cell_type": "code",
   "execution_count": null,
   "metadata": {},
   "outputs": [],
   "source": [
    "def cardiac_output(Ps, Pd, HR):\n",
    "    SV = ...\n",
    "    return ..."
   ]
  },
  {
   "cell_type": "markdown",
   "metadata": {},
   "source": [
    "<div class=\"alert alert-info\">\n",
    "\n",
    "**QUESTION:** Call your functions on the necessary columns of `table_3` to create the arrays `SV` and `CO`. Add these arrays to the table as columns `SV (ml)` and `CO (ml/min)`. Remember that `stroke_volume` and `cardiac_output` return arrays of values, so you won't need to use `make_array`.\n",
    "\n",
    "</div>"
   ]
  },
  {
   "cell_type": "code",
   "execution_count": null,
   "metadata": {},
   "outputs": [],
   "source": [
    "SV = ...\n",
    "CO = ...\n",
    "\n",
    "table_3 = table_3.with_columns(\n",
    "    ..., ...,\n",
    "    ..., ...\n",
    ")\n",
    "table_3"
   ]
  },
  {
   "cell_type": "markdown",
   "metadata": {},
   "source": [
    "### 1c. Calculating MAP and TPR <a id='section-1c'></a>\n",
    "\n",
    "We will now calculate the mean arterial pressure (MAP) and total peripheral resistance (TPR). Recall these formulas:\n",
    "\n",
    "$$TPR = \\frac{MAP}{CO}$$\n",
    "\n",
    "$$MAP = \\frac{1}{3} (Ps - Pd) + Pd$$"
   ]
  },
  {
   "cell_type": "markdown",
   "metadata": {},
   "source": [
    "<div class=\"alert alert-info\">\n",
    "\n",
    "**QUESTION:** Fill in the function definitions below to create `mean_arterial_pressure` and `total_peripheral_resistance` which take in arrays of Ps and Pd values and return the MAP and TPR, respectively. _Your `total_peripheral_resistance` function should call your `mean_arterial_pressure` function._\n",
    "\n",
    "</div>"
   ]
  },
  {
   "cell_type": "code",
   "execution_count": null,
   "metadata": {},
   "outputs": [],
   "source": [
    "def mean_arterial_pressure(Ps, Pd):\n",
    "    return ..."
   ]
  },
  {
   "cell_type": "code",
   "execution_count": null,
   "metadata": {},
   "outputs": [],
   "source": [
    "def total_peripheral_resistance(Ps, Pd):\n",
    "    MAP = ...\n",
    "    return ..."
   ]
  },
  {
   "cell_type": "markdown",
   "metadata": {},
   "source": [
    "<div class=\"alert alert-info\">\n",
    "\n",
    "**QUESTION:** Call your functions on the necessary columns of `table_3` to create the arrays `MAP` and `TPR`. Add these arrays to the table as columns `MAP (mmHg)` and `TPR (mmHg/ml/sec)`.\n",
    "\n",
    "</div>"
   ]
  },
  {
   "cell_type": "code",
   "execution_count": null,
   "metadata": {},
   "outputs": [],
   "source": [
    "MAP = ...\n",
    "TPR = ...\n",
    "\n",
    "table_3 = table_3.with_columns(\n",
    "    ..., ...,\n",
    "    ..., ...\n",
    ")\n",
    "table_3"
   ]
  },
  {
   "cell_type": "markdown",
   "metadata": {},
   "source": [
    "### Saving the Notebook as a PDF\n",
    "\n",
    "Congrats on finishing another lab notebook! To turn in this lab assignment follow the steps below:\n",
    "\n",
    ">1. Press `Control + P` (or `Command + P` on Mac) to open the Print preview\n",
    "2. Change the destination so that it saves locally on your own computer.\n",
    "3. Save as PDF\n",
    "4. If you are stuck, follow further instructions [here](https://www.wikihow.com/Save-a-Web-Page-as-a-PDF-in-Google-Chrome).\n",
    "\n",
    "Your lab instructor will explain to you what to do afterwards."
   ]
  },
  {
   "cell_type": "markdown",
   "metadata": {},
   "source": [
    "---\n",
    "Notebook developed by: Elaine Chien and Chris Pyles\n",
    "\n",
    "Data Science Modules: http://data.berkeley.edu/education/modules\n"
   ]
  },
  {
   "cell_type": "markdown",
   "metadata": {},
   "source": [
    " "
   ]
  }
 ],
 "metadata": {
  "anaconda-cloud": {},
  "kernelspec": {
   "display_name": "Python 3",
   "language": "python",
   "name": "python3"
  },
  "language_info": {
   "codemirror_mode": {
    "name": "ipython",
    "version": 3
   },
   "file_extension": ".py",
   "mimetype": "text/x-python",
   "name": "python",
   "nbconvert_exporter": "python",
   "pygments_lexer": "ipython3",
   "version": "3.11.2"
  },
  "varInspector": {
   "cols": {
    "lenName": 16,
    "lenType": 16,
    "lenVar": 40
   },
   "kernels_config": {
    "python": {
     "delete_cmd_postfix": "",
     "delete_cmd_prefix": "del ",
     "library": "var_list.py",
     "varRefreshCmd": "print(var_dic_list())"
    },
    "r": {
     "delete_cmd_postfix": ") ",
     "delete_cmd_prefix": "rm(",
     "library": "var_list.r",
     "varRefreshCmd": "cat(var_dic_list()) "
    }
   },
   "types_to_exclude": [
    "module",
    "function",
    "builtin_function_or_method",
    "instance",
    "_Feature"
   ],
   "window_display": false
  }
 },
 "nbformat": 4,
 "nbformat_minor": 1
}
