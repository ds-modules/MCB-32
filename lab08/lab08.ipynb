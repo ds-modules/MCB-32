{
 "cells": [
  {
   "cell_type": "markdown",
   "metadata": {},
   "source": [
    "# [MCB 32]: Lab 08 - Exercise Physiology\n",
    " \n",
    "---\n",
    "\n",
    "\n",
    "---\n",
    "\n",
    "### Table of Contents\n",
    "\n",
    "\n",
    "1.[Data Analysis](#section 1)<br>\n",
    "\n",
    "&nbsp;&nbsp;&nbsp;&nbsp;&nbsp;&nbsp; a   [Entering and Naming your data](#section 1a)<br>\n"
   ]
  },
  {
   "cell_type": "markdown",
   "metadata": {},
   "source": [
    "#### Completing the Notebooks\n",
    "\n",
    "\n",
    "<div class=\"alert alert-info\"> \n",
    "\n",
    "**QUESTION** cells are in blue and ask you to enter in lab data, make graphs, or do other lab tasks. To receive full credit for your lab, you must complete all **QUESTION** cells. **NOTE** cells are also in blue and present important information.\n",
    "\n",
    "\n",
    "</div>\n",
    "\n"
   ]
  },
  {
   "cell_type": "code",
   "execution_count": null,
   "metadata": {},
   "outputs": [],
   "source": [
    "!pip install datascience numpy matplotlib"
   ]
  },
  {
   "cell_type": "code",
   "execution_count": null,
   "metadata": {},
   "outputs": [],
   "source": [
    "%matplotlib inline\n",
    "\n",
    "from datascience import *\n",
    "import numpy as np\n",
    "import matplotlib.pyplot as plt"
   ]
  },
  {
   "cell_type": "markdown",
   "metadata": {},
   "source": [
    "# 1. Data Analysis <a id='section 1'>\n",
    "\n",
    "### 1a. Entering your data\n",
    "\n",
    "<div class=\"alert alert-block alert-info\">\n",
    "<b>QUESTION</b> Create Table 3 that contains the data you collected and data you calculated. For the sake of efficiency, \"HR\" refers to the heart rate and \"BP\" refers to blood pressure. The labels (column names) of each table have been saved for you in lists, so you can see where to enter and save your table data.\n",
    "</div>\n"
   ]
  },
  {
   "cell_type": "markdown",
   "metadata": {},
   "source": [
    "#### Table 3: Calculations for bicycle or other step exercise"
   ]
  },
  {
   "cell_type": "markdown",
   "metadata": {},
   "source": [
    "<div class=\"alert alert-block alert-info\">\n",
    "<b>NOTE: </b> We will first be inputting data into this table slightly differently from the way it is in the lab manual in order to easily use the inputted data for calculations. The values in t3_labels will be the columns and the data for \"Resting\", \"Light Resistance\", and \"Moderate Resistance\" will each be a respective row. After we have done our calculations using column manipulation, we will then translate the table back to the way it is represented in the lab manual.\n",
    "</div>"
   ]
  },
  {
   "cell_type": "code",
   "execution_count": null,
   "metadata": {},
   "outputs": [],
   "source": [
    "t3_labels = [\"Power Output (Watts)\", \"Heart Rate (beats/min)\", \n",
    "           \"Systolic Blood Pressure (mmHg)\", \"Diastolic Blood Pressure (mmHg)\", \n",
    "          \"Mean Arterial Pressure (mmHg)\", \"Total Peripheral Resistance (mmHg/ml/sec)\", \n",
    "          \"Stroke Volume (ml)\", \"Cardiac Output (ml/min)\"]"
   ]
  },
  {
   "cell_type": "code",
   "execution_count": null,
   "metadata": {},
   "outputs": [],
   "source": [
    "#create table 3 for calculations for bicycle or other step exercise\n",
    "t3_power_output = ...\n",
    "t3_HR = ...\n",
    "t3_systolic_BP = ...\n",
    "t3_diastolic_BP = ...\n",
    "\"\"\"\n",
    "HINT: create a table with the above values first \n",
    "You can do the calculations for the entire column at once. \n",
    "Take a look at the \"Table Operations\" section in lab05, \n",
    "Add the rest of the columns after creating them using the formulas on page 117\n",
    "\"\"\"\n",
    "t3_mean_arterial_pressure = ...\n",
    "t3_total_peripheral_resistance = ...\n",
    "t3_stroke_volume = ...\n",
    "t3_cardiac_output = ...\n"
   ]
  },
  {
   "cell_type": "markdown",
   "metadata": {},
   "source": [
    "### Saving the Notebook as a PDF\n",
    "\n",
    "Congrats on finishing your first lab notebook! To turn in this lab assignment follow the steps below:\n",
    "\n",
    ">1. Press `Control + P` (or `Command + P` on Mac) to open the Print preview\n",
    "2. Change the destination so that it saves locally on your own computer.\n",
    "3. Save as PDF\n",
    "4. If you are stuck, follow further instructions [here](https://www.wikihow.com/Save-a-Web-Page-as-a-PDF-in-Google-Chrome).\n",
    "\n",
    "Your lab instructor will explain to you what to do afterwards."
   ]
  },
  {
   "cell_type": "markdown",
   "metadata": {},
   "source": [
    "---\n",
    "Notebook developed by: Elaine Chien\n",
    "\n",
    "Data Science Modules: http://data.berkeley.edu/education/modules\n"
   ]
  }
 ],
 "metadata": {
  "anaconda-cloud": {},
  "kernelspec": {
   "display_name": "Python 3",
   "language": "python",
   "name": "python3"
  },
  "language_info": {
   "codemirror_mode": {
    "name": "ipython",
    "version": 3
   },
   "file_extension": ".py",
   "mimetype": "text/x-python",
   "name": "python",
   "nbconvert_exporter": "python",
   "pygments_lexer": "ipython3",
   "version": "3.6.4"
  }
 },
 "nbformat": 4,
 "nbformat_minor": 1
}
