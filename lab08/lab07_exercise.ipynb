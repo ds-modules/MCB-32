{
 "cells": [
  {
   "cell_type": "markdown",
   "metadata": {},
   "source": [
    "# MCB 32: Lab 07 - Exercise Physiology\n",
    " \n",
    "---\n",
    "\n",
    "### Professor Robin Ball \n",
    "\n",
    "You will graph the heart rate data during exercise and calculate the cardiovascular parameters.\n",
    "\n",
    "*Estimated Time: ~30 Minutes*\n",
    "\n",
    "---\n",
    "\n",
    "### Table of Contents\n",
    "\n",
    "1. [Graph Heart Rate](#section-1)<br>\n",
    "&nbsp;&nbsp;&nbsp; a. [Entering your data](#section-1a)<br>\n",
    "&nbsp;&nbsp;&nbsp; b. [Make graph of heart rate](#section-1b)<br>\n",
    "\n",
    "2. [Data Analysis](#section-2)<br>\n",
    "&nbsp;&nbsp;&nbsp; a. [Entering and Naming your data](#section-2a)<br>\n",
    "&nbsp;&nbsp;&nbsp; b. [Calculating SV and CO](#section-2b)<br>\n",
    "&nbsp;&nbsp;&nbsp; c. [Calculating MAP and TPR](#section-2c)"
   ]
  },
  {
   "cell_type": "markdown",
   "metadata": {},
   "source": [
    "#### Completing the Notebooks\n",
    "\n",
    "\n",
    "<div class=\"alert alert-info\"> \n",
    "\n",
    "**QUESTION** cells are in blue and ask you to enter in lab data, make graphs, or do other lab tasks. To receive full credit for your lab, you must complete all **QUESTION** cells. **NOTE** cells are also in blue and present important information.\n",
    "\n",
    "\n",
    "</div>\n",
    "\n"
   ]
  },
  {
   "cell_type": "code",
   "execution_count": null,
   "metadata": {},
   "outputs": [],
   "source": [
    "#You must run this cell every time you open up this notebook\n",
    "\n",
    "%matplotlib inline\n",
    "from datascience import *\n",
    "import numpy as np\n",
    "import matplotlib.pyplot as plt\n",
    "plt.style.use(\"fivethirtyeight\")\n",
    "from table import *"
   ]
  },
  {
   "cell_type": "markdown",
   "metadata": {},
   "source": [
    "# 1. Graph Heart Rate <a id='section-1'></a>\n",
    "\n",
    "### 1a. Entering your data <a id='section-1a'></a>\n",
    "\n",
    "<div class=\"alert alert-block alert-info\">\n",
    "    \n",
    "**QUESTION:** Enter your data for **Table 4** in the spreadsheet generated in the cell below. Only enter the heart rate data. Enter the time in minutes (so 30 secs = 0.5 min). Enter the \"post exercise period\" data immediately after the \"exercise period\" data. The heart rate you measured 30 seconds after stopping the exercise would be time 5.5 mins and the last time measurement would be at 10 minutes (5 minutes of exercise + 5 minutes of recovery).\n",
    "\n",
    "</div>"
   ]
  },
  {
   "cell_type": "code",
   "execution_count": null,
   "metadata": {},
   "outputs": [],
   "source": [
    "#Enter Table 4 (Light intensity) heart rate data here\n",
    "\n",
    "table_4_grid = make_table(14, 2, [\"Time (min)\", \"HR (beats/min)\"])"
   ]
  },
  {
   "cell_type": "code",
   "execution_count": null,
   "metadata": {},
   "outputs": [],
   "source": [
    "#Extract the data into a table\n",
    "\n",
    "table_4 = get_table(table_4_grid)\n",
    "table_4"
   ]
  },
  {
   "cell_type": "markdown",
   "metadata": {},
   "source": [
    "<div class=\"alert alert-block alert-info\">\n",
    "    \n",
    "**QUESTION:** Enter your data for **Table 5** in the spreadsheet generated in the cell below. Only enter the heart rate data and combine the exercise and recovery time like you did for Table 4.\n",
    "\n",
    "</div>"
   ]
  },
  {
   "cell_type": "code",
   "execution_count": null,
   "metadata": {},
   "outputs": [],
   "source": [
    "#Enter Table 5 (Moderate intensity) heart rate data here\n",
    "\n",
    "table_5_grid = make_table(14, 2, [\"Time (min)\", \"HR (beats/min)\"])"
   ]
  },
  {
   "cell_type": "code",
   "execution_count": null,
   "metadata": {},
   "outputs": [],
   "source": [
    "#Extract the data into a table\n",
    "\n",
    "table_5 = get_table(table_5_grid)\n",
    "table_5"
   ]
  },
  {
   "cell_type": "markdown",
   "metadata": {},
   "source": [
    "### 1b. Make graph of heart rate <a id='section-1b'></a>\n",
    "\n",
    "<div class=\"alert alert-block alert-info\">\n",
    "    \n",
    "**QUESTION:** Make a line plot of heart rate over time. You should have one graph with two lines, one for light intensity and one for moderate intensity. Make sure you have a legend and label your axes. Hint: you did this before in the Lab 4 and 5 Jupyter notebooks, so copy and paste from there. Remember to use `plot` and put the data inside the parentheses: the data that goes on the x-axis is the first argument, and the data that goes on the y-axis is the second.\n",
    "\n",
    "</div>"
   ]
  },
  {
   "cell_type": "code",
   "execution_count": null,
   "metadata": {},
   "outputs": [],
   "source": [
    "#Use plt.plot(...,...) to make a line plot of heart rate vs time for light and moderate exercise\n",
    "\n",
    "..."
   ]
  },
  {
   "cell_type": "markdown",
   "metadata": {},
   "source": [
    "# 2. Data Analysis <a id='section-2'></a>\n",
    "\n",
    "### 2a. Entering your data <a id='section-2a'></a>\n",
    "\n",
    "<div class=\"alert alert-block alert-info\">\n",
    "    \n",
    "**QUESTION:** Enter your data for **Table 6** in the spreadsheet generated in the cell below. Note that \"HR\" stands for heart rate, \"Ps\" for systolic pressure, and \"Pd\" for diastolic pressure.\n",
    "\n",
    "</div>"
   ]
  },
  {
   "cell_type": "code",
   "execution_count": null,
   "metadata": {
    "scrolled": true
   },
   "outputs": [],
   "source": [
    "table_6_grid = make_table(3, 4, [\"Condition\", \"HR (beats/min)\", \"Ps (mmHg)\", \"Pd (mmHg)\"], \n",
    "                             values = { \"Condition\" : [\"Resting\", \"Light resistance\", \"Moderate resistance\"]\n",
    "})"
   ]
  },
  {
   "cell_type": "code",
   "execution_count": null,
   "metadata": {},
   "outputs": [],
   "source": [
    "#Extract the data\n",
    "\n",
    "table_6 = get_table(table_6_grid)\n",
    "table_6"
   ]
  },
  {
   "cell_type": "markdown",
   "metadata": {},
   "source": [
    "### 2b. Calculating SV and CO <a id='section-2b'></a>\n",
    "\n",
    "We will now calculate the stroke volume and cardiac output using your data. "
   ]
  },
  {
   "cell_type": "markdown",
   "metadata": {},
   "source": [
    "Recall from the lab manual that the stroke volume $SV$ and the cardiac output $CO$ have the following formulas:\n",
    "\n",
    "$$SV = 1.7 \\times (Ps - Pd)$$\n",
    "\n",
    "$$CO = SV \\times HR = 1.7 \\times (Ps - Pd) \\times HR$$\n",
    "\n",
    "Recall that SV is measured in ml/beat and CO in ml/min.\n",
    "\n",
    "In order to calculate the SV and CO, we will start by defining two functions which take in arrays of Ps and Pd values and return another array of SV values and CO values. \n",
    "\n",
    "**A quick note on array calculations:** When you are doing calculations on arrays, any binary operators (e.g. +, -, \\*, \\/\\) that you use will be **broadcast** to the rest of the array. For example,\n",
    "\n",
    "```python\n",
    "arr = make_array(1, 2, 3, 4)\n",
    "2 * arr     # returns array([2, 4, 6, 8])\n",
    "arr + 5     # returns array([6, 7, 8, 9])\n",
    "```\n",
    "\n",
    "If you use these operators on two arrays, then the operation will be performed elementwise on the two arrays:\n",
    "\n",
    "```python\n",
    "arr1 = make_array(1, 2, 3, 4)\n",
    "arr2 = make_array(5, 6, 7, 8)\n",
    "arr1 + arr2     # returns array([6, 8, 10, 12])\n",
    "```\n",
    "\n",
    "Utilize these facts when you create your functions below."
   ]
  },
  {
   "cell_type": "markdown",
   "metadata": {},
   "source": [
    "<div class=\"alert alert-info\">\n",
    "\n",
    "**QUESTION:** Fill in the function definitions below to create `stroke_volume` and `cardiac_output` which take in arrays of Ps, Pd, and HR values and return arrays of the SV and CO, respectively. *Your `cardiac_output` function should call your `stroke_volume` function.*\n",
    "\n",
    "</div>"
   ]
  },
  {
   "cell_type": "code",
   "execution_count": null,
   "metadata": {},
   "outputs": [],
   "source": [
    "def stroke_volume(Ps, Pd):\n",
    "    return ..."
   ]
  },
  {
   "cell_type": "code",
   "execution_count": null,
   "metadata": {},
   "outputs": [],
   "source": [
    "# Use the stroke_volume function you defined in the SV = ... line, then you can return SV*HR\n",
    "\n",
    "def cardiac_output(Ps, Pd, HR):\n",
    "    SV = ...\n",
    "    return ..."
   ]
  },
  {
   "cell_type": "markdown",
   "metadata": {},
   "source": [
    "<div class=\"alert alert-info\">\n",
    "\n",
    "**QUESTION:** Call your functions on the necessary columns of `table_6` to create the arrays `SV` and `CO`. Add these arrays to the table as columns `SV (ml)` and `CO (ml/min)`. Remember that `stroke_volume` and `cardiac_output` return arrays of values, so you won't need to use `make_array`.\n",
    "\n",
    "</div>"
   ]
  },
  {
   "cell_type": "code",
   "execution_count": null,
   "metadata": {},
   "outputs": [],
   "source": [
    "#Look at the stroke_volume definition above. It takes in Ps values and Pd values. So you need to tell \n",
    "#Python where to get those values from (what table and what columns)\n",
    "SV = stroke_volume(..., ...)\n",
    "\n",
    "#Now look at the cardiac_output definition. It takes in Ps, Pd and HR values. So tell it where to \n",
    "#look for those values in table 6\n",
    "CO = cardiac_output(..., ..., ...)\n",
    "\n",
    "#Here we are adding in the new data you just calculated into Table 6 in new columns\n",
    "table_6 = table_6.with_columns(\"SV (ml)\",SV, \"CO (ml/min)\", CO)\n",
    "table_6\n"
   ]
  },
  {
   "cell_type": "markdown",
   "metadata": {},
   "source": [
    "### 2c. Calculating MAP and TPR <a id='section-2c'></a>\n",
    "\n",
    "We will now calculate the mean arterial pressure (MAP) and total peripheral resistance (TPR). Recall these formulas:\n",
    "\n",
    "$$TPR = \\frac{MAP}{CO}$$\n",
    "\n",
    "$$MAP = \\frac{1}{3} (Ps - Pd) + Pd$$"
   ]
  },
  {
   "cell_type": "markdown",
   "metadata": {},
   "source": [
    "<div class=\"alert alert-info\">\n",
    "\n",
    "**QUESTION:** Fill in the function definitions below to create `mean_arterial_pressure` and `total_peripheral_resistance` which take in arrays of Ps and Pd values and return the MAP and TPR, respectively. _Your `total_peripheral_resistance` function should call your `mean_arterial_pressure` function._\n",
    "\n",
    "</div>"
   ]
  },
  {
   "cell_type": "code",
   "execution_count": null,
   "metadata": {},
   "outputs": [],
   "source": [
    "def mean_arterial_pressure(Ps, Pd):\n",
    "    return ..."
   ]
  },
  {
   "cell_type": "code",
   "execution_count": null,
   "metadata": {},
   "outputs": [],
   "source": [
    "def total_peripheral_resistance(Ps, Pd):\n",
    "    MAP = ...\n",
    "    return ..."
   ]
  },
  {
   "cell_type": "markdown",
   "metadata": {},
   "source": [
    "<div class=\"alert alert-info\">\n",
    "\n",
    "**QUESTION:** Call your functions on the necessary columns of `table_6` to create the arrays `MAP` and `TPR`. Add these arrays to the table as columns `MAP (mmHg)` and `TPR (mmHg/ml/sec)`.\n",
    "\n",
    "</div>"
   ]
  },
  {
   "cell_type": "code",
   "execution_count": null,
   "metadata": {},
   "outputs": [],
   "source": [
    "MAP = mean_arterial_pressure(..., ...)\n",
    "TPR = total_peripheral_resistance(..., ...)\n",
    "\n",
    "#Use a similar code like you did before to add in new columns for the MAP and TPR data\n",
    "table_6 = table_6.with_columns(...)\n",
    "table_6\n"
   ]
  },
  {
   "cell_type": "markdown",
   "metadata": {},
   "source": [
    "### Saving the Notebook as an html file\n",
    "\n",
    "Congrats on finishing another lab notebook! To turn in this lab assignment follow the steps below:\n",
    "\n",
    ">1. Go to the file menu\n",
    "2. Go to 'Download as'\n",
    "3. Select HTML (.html)\n",
    "4. Upload your complete notebook into the Lab 7 assignment\n",
    "\n",
    "Your lab instructor will explain to you what to do afterwards."
   ]
  },
  {
   "cell_type": "markdown",
   "metadata": {},
   "source": [
    "---\n",
    "Notebook developed by: Elaine Chien and Chris Pyles\n",
    "\n",
    "Data Science Modules: http://data.berkeley.edu/education/modules\n"
   ]
  },
  {
   "cell_type": "markdown",
   "metadata": {},
   "source": [
    " "
   ]
  }
 ],
 "metadata": {
  "anaconda-cloud": {},
  "kernelspec": {
   "display_name": "Python 3 (ipykernel)",
   "language": "python",
   "name": "python3"
  },
  "language_info": {
   "codemirror_mode": {
    "name": "ipython",
    "version": 3
   },
   "file_extension": ".py",
   "mimetype": "text/x-python",
   "name": "python",
   "nbconvert_exporter": "python",
   "pygments_lexer": "ipython3",
   "version": "3.11.2"
  },
  "varInspector": {
   "cols": {
    "lenName": 16,
    "lenType": 16,
    "lenVar": 40
   },
   "kernels_config": {
    "python": {
     "delete_cmd_postfix": "",
     "delete_cmd_prefix": "del ",
     "library": "var_list.py",
     "varRefreshCmd": "print(var_dic_list())"
    },
    "r": {
     "delete_cmd_postfix": ") ",
     "delete_cmd_prefix": "rm(",
     "library": "var_list.r",
     "varRefreshCmd": "cat(var_dic_list()) "
    }
   },
   "types_to_exclude": [
    "module",
    "function",
    "builtin_function_or_method",
    "instance",
    "_Feature"
   ],
   "window_display": false
  }
 },
 "nbformat": 4,
 "nbformat_minor": 1
}
