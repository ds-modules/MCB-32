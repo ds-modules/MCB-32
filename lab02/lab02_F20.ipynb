{
 "cells": [
  {
   "cell_type": "markdown",
   "metadata": {},
   "source": [
    "# MCB 32L: Lab 02 - Neuron simulation\n",
    "---\n",
    "\n",
    "### Professor Robin Ball\n",
    "\n",
    "During this lab, you will get more practice using Python and creating graphs. Refer to the introductory Jupyter notebook from Lab 0 if you can't remember how to work with lists or make a graph.\n",
    "\n",
    "*Estimated Time: ~1 Hour*\n",
    "\n",
    "---\n",
    "\n",
    "### Table of Contents\n",
    "\n",
    "1. [How does altering extracellular K+ alter the resting membrane potential?](#section-1)<br>\n",
    "2. [What is the refractory period?](#section-2)<br>\n",
    "3. [How does voltage-gated Na+ gene expression affect the action potential?](#section-3)<br>"
   ]
  },
  {
   "cell_type": "code",
   "execution_count": null,
   "metadata": {},
   "outputs": [],
   "source": [
    "#Run this cell first! Everytime you come back to this notebook, you need to run this cell again.\n",
    "\n",
    "from datascience import *\n",
    "import pandas as pd\n",
    "import numpy as np\n",
    "import matplotlib.pyplot as plt\n",
    "%matplotlib inline\n",
    "plt.style.use(\"fivethirtyeight\")"
   ]
  },
  {
   "cell_type": "markdown",
   "metadata": {},
   "source": [
    "## 1. How does altering extracellular K+ alter the resting membrane potential? <a id='section-1'></a>\n",
    "Do the first experiment to collect the data for the resting membrane potential at different extracellular K+ concentrations and enter your data in the next cell in order. You are making two lists, one called \"k_concentration\" and another called \"Vm\".\n",
    "</div>"
   ]
  },
  {
   "cell_type": "code",
   "execution_count": null,
   "metadata": {},
   "outputs": [],
   "source": [
    "#Fill in the data for membrane potential (Vm) for each K+ concentration (erase the three dots first)\n",
    "k_concentration = [4,8,16,32,64,128,200]\n",
    "Vm = [-68,-59.8,-48.3,-34.2,-18.2,-1.1,10.4]"
   ]
  },
  {
   "cell_type": "markdown",
   "metadata": {},
   "source": [
    "We're interested in using a function called `plot`, which makes line graphs. We can tell the computer to find `plot` in the `plt` module using what's called *dot notation*.\n",
    "\n",
    "`plot` needs to get data to plot as its arguments. In this case, we can give it the lists of data we just entered. The data goes inside the parentheses: the data that goes on the x-axis is the first argument, and the data that goes on the y-axis is the second."
   ]
  },
  {
   "cell_type": "markdown",
   "metadata": {},
   "source": [
    "<div class='alert alert-info'>\n",
    "Now make a line graph of your data. Membrane potential should be on the y-axis. Remember to label your axes correctly and include units.\n",
    "</div>"
   ]
  },
  {
   "cell_type": "code",
   "execution_count": null,
   "metadata": {},
   "outputs": [],
   "source": [
    "# Create a line plot for membrane potential vs extracellular K concentration\n",
    "# Refer to the Lab 0 notebook if you need help\n",
    "\n",
    "plt.plot(k_concentration,Vm)\n",
    "\n",
    "# add the x-axis label\n",
    "plt.xlabel(\"Extracellular K+ (mM)\")\n",
    "\n",
    "# add the y-axis label\n",
    "plt.ylabel(\"Membrane potential (mV)\")\n",
    "\n",
    "# add the title\n",
    "plt.title(\"Resting membrane potential vs Extracellular K+\")\n",
    "\n",
    "# show the plot\n",
    "plt.show()"
   ]
  },
  {
   "cell_type": "markdown",
   "metadata": {},
   "source": [
    "## 2. What is the refractory period? <a id='section-2'></a>"
   ]
  },
  {
   "cell_type": "markdown",
   "metadata": {},
   "source": [
    "Now let's make a line graph of current threshold vs delay time. Start by entering your data into two lists. You will get this data from the NeuronMembrane simulator."
   ]
  },
  {
   "cell_type": "code",
   "execution_count": null,
   "metadata": {},
   "outputs": [],
   "source": [
    "delay = [2,4,6,8,10]\n",
    "threshold = [139,43,29,25,24]"
   ]
  },
  {
   "cell_type": "markdown",
   "metadata": {},
   "source": [
    "<div class='alert alert-info'>\n",
    "Now make a line graph for your refractory period data. Current threshold should be on the y-axis. Remember to label your axes correctly and include units.\n",
    "    Hint: Copy and paste your code from the graph above and change the names for your new data.\n",
    "</div>"
   ]
  },
  {
   "cell_type": "code",
   "execution_count": null,
   "metadata": {},
   "outputs": [],
   "source": [
    "# Make your line plot here following the pattern from the graph above\n",
    "plt.plot(delay,threshold)\n",
    "\n",
    "# add the x-axis label\n",
    "plt.xlabel(\"Delay time (ms)\")\n",
    "\n",
    "# add the y-axis label\n",
    "plt.ylabel(\"Current threshold (uA)\")\n",
    "\n",
    "# add the title\n",
    "plt.title(\"Current threshold changes during refractory period\")\n",
    "\n",
    "# show the plot\n",
    "plt.show()"
   ]
  },
  {
   "cell_type": "markdown",
   "metadata": {},
   "source": [
    "## 3. How does voltage-gated Na+ gene expression affect the action potential? <a id='section-3'></a>\n",
    "\n",
    "Finally, we'll make one more graph comparing the action potential (AP) height vs the Na+ channel conductance. Let's make a scatter plot this time to practice making a different type of graph.\n",
    "\n",
    "We're interested in using a function called `scatter`, which makes scatter plots. We can tell the computer to find `scatter` in the `plt` module using the *dot notation* again.\n",
    "\n",
    "First make two lists of your data in the cell below."
   ]
  },
  {
   "cell_type": "code",
   "execution_count": null,
   "metadata": {},
   "outputs": [],
   "source": [
    "Na_conductance = [120,110,100,90]\n",
    "AP_height = [42.34,35.63,33.44,21.98]"
   ]
  },
  {
   "cell_type": "markdown",
   "metadata": {},
   "source": [
    "<div class='alert alert-info'>\n",
    "Now make a scatter plot of your conductance data. Action potential height should be on the y-axis. Remember to label your axes correctly and include units.\n",
    "</div>"
   ]
  },
  {
   "cell_type": "code",
   "execution_count": null,
   "metadata": {},
   "outputs": [],
   "source": [
    "# create a scatter plot\n",
    "plt.scatter(Na_conductance,AP_height)\n",
    "\n",
    "# add the x-axis label\n",
    "plt.xlabel(\"Na conductance (mS)\")\n",
    "\n",
    "# add the y-axis label\n",
    "plt.ylabel(\"AP height (mV)\")\n",
    "\n",
    "# add a title\n",
    "plt.title(\"Action potential height vs Na channel conductance\")\n",
    "\n",
    "# show the plot\n",
    "plt.show()"
   ]
  },
  {
   "cell_type": "markdown",
   "metadata": {},
   "source": [
    "### Saving the Notebook as a PDF\n",
    "\n",
    "Congrats on finishing your first lab notebook! To turn in this lab assignment follow the steps below:\n",
    "\n",
    ">1. Press `Control + P` (or `Command + P` on Mac) to open the Print preview\n",
    "2. Change the destination so that it saves locally on your own computer.\n",
    "3. Save as PDF\n",
    "4. If you are stuck, follow further instructions [here](https://www.wikihow.com/Save-a-Web-Page-as-a-PDF-in-Google-Chrome).\n",
    "5. Upload your complete notebook in the lab 2 assignment on bCourses."
   ]
  },
  {
   "cell_type": "markdown",
   "metadata": {},
   "source": [
    "---\n",
    "Notebook developed by: Robin Ball\n",
    "\n",
    "Data Science Modules: http://data.berkeley.edu/education/modules\n"
   ]
  },
  {
   "cell_type": "markdown",
   "metadata": {},
   "source": [
    " "
   ]
  }
 ],
 "metadata": {
  "anaconda-cloud": {},
  "kernelspec": {
   "display_name": "Python 3",
   "language": "python",
   "name": "python3"
  },
  "language_info": {
   "codemirror_mode": {
    "name": "ipython",
    "version": 3
   },
   "file_extension": ".py",
   "mimetype": "text/x-python",
   "name": "python",
   "nbconvert_exporter": "python",
   "pygments_lexer": "ipython3",
   "version": "3.8.5"
  },
  "varInspector": {
   "cols": {
    "lenName": 16,
    "lenType": 16,
    "lenVar": 40
   },
   "kernels_config": {
    "python": {
     "delete_cmd_postfix": "",
     "delete_cmd_prefix": "del ",
     "library": "var_list.py",
     "varRefreshCmd": "print(var_dic_list())"
    },
    "r": {
     "delete_cmd_postfix": ") ",
     "delete_cmd_prefix": "rm(",
     "library": "var_list.r",
     "varRefreshCmd": "cat(var_dic_list()) "
    }
   },
   "types_to_exclude": [
    "module",
    "function",
    "builtin_function_or_method",
    "instance",
    "_Feature"
   ],
   "window_display": false
  }
 },
 "nbformat": 4,
 "nbformat_minor": 1
}
