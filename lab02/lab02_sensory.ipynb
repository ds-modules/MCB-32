{
 "cells": [
  {
   "cell_type": "markdown",
   "metadata": {},
   "source": [
    "# MCB 32L: Lab 02 - Sensory discrimination\n",
    "---\n",
    "\n",
    "### Professor Robin Ball\n",
    "\n",
    "During this lab, you will get more practice using Python and creating graphs. Refer to the introductory Jupyter notebook from Lab 0 if you can't remember how to work with lists or make a graph.\n",
    "\n",
    "*Estimated Time: ~20 minutes*\n",
    "\n",
    "---\n"
   ]
  },
  {
   "cell_type": "code",
   "execution_count": null,
   "metadata": {},
   "outputs": [],
   "source": [
    "#Run this cell first! Everytime you come back to this notebook, you need to run this cell again.\n",
    "\n",
    "from datascience import *\n",
    "import matplotlib.pyplot as plt\n",
    "%matplotlib inline\n",
    "plt.style.use(\"fivethirtyeight\")"
   ]
  },
  {
   "cell_type": "markdown",
   "metadata": {},
   "source": [
    "## Auditory threshold <a id='section-1'></a>\n",
    "\n",
    "Do the auditory threshold test for the left and right ears. \n",
    "\n",
    "Enter your data in the next cell in order for the left ear. If you could not hear the sound at any volume for a given frequency, then do not use that frequency. You are making two lists, one called \"freq_left\" and another called \"threshold_left\". The data in both lists need to be in order.\n",
    "</div>"
   ]
  },
  {
   "cell_type": "code",
   "execution_count": null,
   "metadata": {},
   "outputs": [],
   "source": [
    "#Fill in the data for the frequency and threshold volume for the left ear. Use commas between numbers.\n",
    "freq_left = [...]\n",
    "threshold_left = [...]"
   ]
  },
  {
   "cell_type": "markdown",
   "metadata": {},
   "source": [
    "Now enter your data in order for the right ear. If you could not hear the sound at any volume for a given frequency, then do not use that frequency. You are making two lists, one called \"freq_right\" and another called \"threshold_right\". The data in both lists need to be in order.\n",
    "</div>"
   ]
  },
  {
   "cell_type": "code",
   "execution_count": null,
   "metadata": {},
   "outputs": [],
   "source": [
    "#Fill in the data for the frequency and threshold volume for the right ear. Use commas between numbers.\n",
    "freq_right = [...]\n",
    "threshold_right = [...]"
   ]
  },
  {
   "cell_type": "markdown",
   "metadata": {},
   "source": [
    "We're interested in using a function called `plot`, which makes line graphs. We can tell the computer to find `plot` in the `plt` module using what's called *dot notation*.\n",
    "\n",
    "`plot` needs to get data to plot as its arguments. In this case, we can give it the lists of data we just entered. The data goes inside the parentheses: the data that goes on the x-axis is the first argument, and the data that goes on the y-axis is the second."
   ]
  },
  {
   "cell_type": "markdown",
   "metadata": {},
   "source": [
    "<div class='alert alert-info'>\n",
    "Now make a line graph of your data for both the left ear and thr right ear (there should be two lines). The volume threshold should be on the y-axis. Remember to label your axes correctly and include units (Hz for frequency and % volume for threshold). Include a legend for each line.\n",
    "</div>"
   ]
  },
  {
   "cell_type": "code",
   "execution_count": null,
   "metadata": {},
   "outputs": [],
   "source": [
    "# Create a line plot for volume threshold vs sound frequency for the left and right ears\n",
    "# Refer to the Lab 0 notebook if you need help\n",
    "\n",
    "#create a line plot for the left ear data\n",
    "plt.plot(..., ..., label = '...')\n",
    "\n",
    "#create a line plot for the right ear data\n",
    "plt.plot(..., ..., label = '...')\n",
    "\n",
    "# add the x-axis label\n",
    "plt.xlabel(\"...\")\n",
    "\n",
    "# add the y-axis label\n",
    "plt.ylabel(\"...\")\n",
    "\n",
    "# add the legend\n",
    "plt.legend()\n",
    "\n",
    "# add the title\n",
    "plt.title(\"...\")\n",
    "\n",
    "# show the plot\n",
    "plt.show()"
   ]
  },
  {
   "cell_type": "markdown",
   "metadata": {},
   "source": [
    "If you have 1% for a lot of your frequencies, it might be hard to see the exact range of frequencies that you can detect the best. The x-axis spans a large range, so let's try changing the x-axis to log scale and see if that helps us get a better idea of the auditory threshold curve."
   ]
  },
  {
   "cell_type": "markdown",
   "metadata": {},
   "source": [
    "<div class='alert alert-info'>\n",
    "Re-do the line graph you did above (you can copy and paste it), but add in a command to turn the x-axis to a log scale.\n",
    "</div>"
   ]
  },
  {
   "cell_type": "code",
   "execution_count": null,
   "metadata": {},
   "outputs": [],
   "source": [
    "#Make your line plot again for both the left and right ears, but include this new line\n",
    "# at some point before you ask it to show you the plot\n",
    "\n",
    "#Include this line to turn the x-axis into log scale\n",
    "plt.xscale('log')\n",
    "\n"
   ]
  },
  {
   "cell_type": "markdown",
   "metadata": {},
   "source": [
    "<div class='alert alert-info'>\n",
    "Based on your data and graphs, which frequencies can you detect the best? Is one of your ears better than the other? Discuss your results in the Lab 2 post-lab assignment on bCourses.\n",
    "</div>"
   ]
  },
  {
   "cell_type": "markdown",
   "metadata": {},
   "source": [
    "### Saving the Notebook as a PDF\n",
    "\n",
    "Congrats on finishing your first lab notebook! To turn in this lab assignment follow the steps below:\n",
    "\n",
    ">1. Press `Control + P` (or `Command + P` on Mac) to open the Print preview\n",
    "2. Change the destination so that it saves locally on your own computer.\n",
    "3. Save as PDF\n",
    "4. If you are stuck, follow further instructions [here](https://www.wikihow.com/Save-a-Web-Page-as-a-PDF-in-Google-Chrome).\n",
    "5. Upload your complete notebook in the lab 2 assignment on bCourses."
   ]
  },
  {
   "cell_type": "markdown",
   "metadata": {},
   "source": [
    "---\n",
    "Notebook developed by: Robin Ball\n",
    "\n",
    "Data Science Modules: http://data.berkeley.edu/education/modules\n"
   ]
  },
  {
   "cell_type": "markdown",
   "metadata": {},
   "source": [
    " "
   ]
  }
 ],
 "metadata": {
  "anaconda-cloud": {},
  "kernelspec": {
   "display_name": "Python 3 (ipykernel)",
   "language": "python",
   "name": "python3"
  },
  "language_info": {
   "codemirror_mode": {
    "name": "ipython",
    "version": 3
   },
   "file_extension": ".py",
   "mimetype": "text/x-python",
   "name": "python",
   "nbconvert_exporter": "python",
   "pygments_lexer": "ipython3",
   "version": "3.9.6"
  },
  "varInspector": {
   "cols": {
    "lenName": 16,
    "lenType": 16,
    "lenVar": 40
   },
   "kernels_config": {
    "python": {
     "delete_cmd_postfix": "",
     "delete_cmd_prefix": "del ",
     "library": "var_list.py",
     "varRefreshCmd": "print(var_dic_list())"
    },
    "r": {
     "delete_cmd_postfix": ") ",
     "delete_cmd_prefix": "rm(",
     "library": "var_list.r",
     "varRefreshCmd": "cat(var_dic_list()) "
    }
   },
   "types_to_exclude": [
    "module",
    "function",
    "builtin_function_or_method",
    "instance",
    "_Feature"
   ],
   "window_display": false
  }
 },
 "nbformat": 4,
 "nbformat_minor": 1
}
