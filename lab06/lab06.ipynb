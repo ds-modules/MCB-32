{
 "cells": [
  {
   "cell_type": "markdown",
   "metadata": {},
   "source": [
    "# [MCB 32]: Lab 06 - Frog Heart Study\n",
    "\n",
    "---\n",
    "\n",
    "### Professor Robin Ball \n",
    "Using what you learned, you will create tables for the data you collected in this lab as well as the averaged class data. You will also graph the class data, so it is easier to visualize and find major trends. \n",
    "\n",
    "*Estimated Time: ~60 Minutes*\n",
    "\n",
    "---\n",
    "\n",
    "### Table of Contents\n",
    "1. [Creating a Bar Graph](#section_1)\n",
    "\n",
    "2. [Data Analysis](#section_2)\n",
    "\n",
    "    a. [Entering your data](#section_2a)\n",
    "    \n",
    "    b. [Calculating class data](#section_2b)\n",
    "    \n",
    "    c. [Graphing class data](#section_2c)\n"
   ]
  },
  {
   "cell_type": "code",
   "execution_count": null,
   "metadata": {},
   "outputs": [],
   "source": [
    "!pip install datascience numpy matplotlib"
   ]
  },
  {
   "cell_type": "code",
   "execution_count": 8,
   "metadata": {},
   "outputs": [],
   "source": [
    "%matplotlib inline\n",
    "\n",
    "from datascience import *\n",
    "import numpy as np\n",
    "import matplotlib.pyplot as plt"
   ]
  },
  {
   "cell_type": "markdown",
   "metadata": {},
   "source": [
    "---"
   ]
  },
  {
   "cell_type": "markdown",
   "metadata": {},
   "source": [
    "# 1. Creating a Bar Graph\n",
    "\n",
    "You will learn how to create bar graphs to help you vizualize the data. We will draw bar graphs with horizontal bars because it’s easier to label the bars that way. Let's start by creating a random table called groceries."
   ]
  },
  {
   "cell_type": "code",
   "execution_count": 22,
   "metadata": {},
   "outputs": [],
   "source": [
    "item_name = [\"Apples\", \"Bananas\", \"Carrots\"]\n",
    "quantities = [5, 7, 2]\n",
    "prices = [0.20, 0.25, 0.75]\n",
    "weights = [0.33, 0.25, 0.16]"
   ]
  },
  {
   "cell_type": "code",
   "execution_count": 33,
   "metadata": {},
   "outputs": [
    {
     "data": {
      "text/html": [
       "<table border=\"1\" class=\"dataframe\">\n",
       "    <thead>\n",
       "        <tr>\n",
       "            <th>Item Name</th> <th>Quantity</th> <th>Price</th> <th>Weight</th>\n",
       "        </tr>\n",
       "    </thead>\n",
       "    <tbody>\n",
       "        <tr>\n",
       "            <td>Apples   </td> <td>5       </td> <td>0.2  </td> <td>0.33  </td>\n",
       "        </tr>\n",
       "        <tr>\n",
       "            <td>Bananas  </td> <td>7       </td> <td>0.25 </td> <td>0.25  </td>\n",
       "        </tr>\n",
       "        <tr>\n",
       "            <td>Carrots  </td> <td>2       </td> <td>0.75 </td> <td>0.16  </td>\n",
       "        </tr>\n",
       "    </tbody>\n",
       "</table>"
      ],
      "text/plain": [
       "Item Name | Quantity | Price | Weight\n",
       "Apples    | 5        | 0.2   | 0.33\n",
       "Bananas   | 7        | 0.25  | 0.25\n",
       "Carrots   | 2        | 0.75  | 0.16"
      ]
     },
     "execution_count": 33,
     "metadata": {},
     "output_type": "execute_result"
    }
   ],
   "source": [
    "groceries = Table().with_columns(\n",
    "            \"Item Name\", item_name, \n",
    "            \"Quantity\", quantities, \n",
    "            \"Price\", prices,\n",
    "            \"Weight\", weights)\n",
    "groceries"
   ]
  },
  {
   "cell_type": "markdown",
   "metadata": {},
   "source": [
    "In this section, we will draw a graph of the distribution of quantities in the column `Quantity` and weights in `Weight` from the `groceries` table.\n",
    " - `select` is a handy method that creates a table with only the desired columns.\n",
    " \n",
    "We don't want the column `Price`, so we only select `Item Name`, `Quantity`, and `Weight`."
   ]
  },
  {
   "cell_type": "code",
   "execution_count": 31,
   "metadata": {},
   "outputs": [
    {
     "data": {
      "text/html": [
       "<table border=\"1\" class=\"dataframe\">\n",
       "    <thead>\n",
       "        <tr>\n",
       "            <th>Item Name</th> <th>Quantity</th> <th>Weight</th>\n",
       "        </tr>\n",
       "    </thead>\n",
       "    <tbody>\n",
       "        <tr>\n",
       "            <td>Apples   </td> <td>5       </td> <td>0.33  </td>\n",
       "        </tr>\n",
       "        <tr>\n",
       "            <td>Bananas  </td> <td>7       </td> <td>0.25  </td>\n",
       "        </tr>\n",
       "        <tr>\n",
       "            <td>Carrots  </td> <td>2       </td> <td>0.16  </td>\n",
       "        </tr>\n",
       "    </tbody>\n",
       "</table>"
      ],
      "text/plain": [
       "Item Name | Quantity | Weight\n",
       "Apples    | 5        | 0.33\n",
       "Bananas   | 7        | 0.25\n",
       "Carrots   | 2        | 0.16"
      ]
     },
     "execution_count": 31,
     "metadata": {},
     "output_type": "execute_result"
    }
   ],
   "source": [
    "groceries.select(\"Item Name\", \"Quantity\", \"Weight\")"
   ]
  },
  {
   "cell_type": "markdown",
   "metadata": {},
   "source": [
    "To create the bar graph, we will use `barh`.\n",
    "\n",
    " - `barh` generates a bar graph of the values in a column. The argument is the column label of the categories. You can create a bar graph using `'TABLE'.barh('COLUMN_LABEL')`.\n",
    " \n",
    "Let's plot the new `groceries` table, using `Item Name` as the column label."
   ]
  },
  {
   "cell_type": "code",
   "execution_count": 35,
   "metadata": {},
   "outputs": [
    {
     "data": {
      "image/png": "[encoded data removed]",
      "text/plain": [
       "<Figure size 432x288 with 1 Axes>"
      ]
     },
     "metadata": {
      "needs_background": "light"
     },
     "output_type": "display_data"
    }
   ],
   "source": [
    "groceries.select(\"Item Name\", \"Quantity\", \"Weight\").barh(\"Item Name\")"
   ]
  },
  {
   "cell_type": "markdown",
   "metadata": {},
   "source": [
    "# 2. Data Analysis\n",
    "\n",
    "You will use what you learned last week to create tables for this lab. If you need a refresher, you can always refer back to the previous lab notebooks.\n",
    "\n",
    "### 2a. Entering your data\n",
    "\n",
    "<div class=\"alert alert-block alert-info\">\n",
    "<b>QUESTION</b> Create tables for Table 1, 2, and 3 that contain the data you collected. For the sake of efficiency, \"HR\" refers to the heart rate and \"amp\" refers to the amplitude of the R wave. The labels (column names) of each table have been saved for you in lists, so you can see where to enter and save your table data.\n",
    "</div>\n",
    "\n",
    "#### Table 1: Temperature Effects"
   ]
  },
  {
   "cell_type": "code",
   "execution_count": 9,
   "metadata": {},
   "outputs": [],
   "source": [
    "t1_labels = [\"Human heart rate\", \"Baseline frog heart rate\", \"Warm temperature\", \n",
    "          \"Baseline before cold\", \"Cold temperature\"]"
   ]
  },
  {
   "cell_type": "code",
   "execution_count": null,
   "metadata": {},
   "outputs": [],
   "source": [
    "### Create Table 1\n",
    "t1_HR = ...\n",
    "t1_amp = ...\n",
    "t1 = ...\n",
    "t1"
   ]
  },
  {
   "cell_type": "markdown",
   "metadata": {},
   "source": [
    "#### Table 2: Neurotransmitter Effects"
   ]
  },
  {
   "cell_type": "code",
   "execution_count": null,
   "metadata": {},
   "outputs": [],
   "source": [
    "t2_labels = [\"Baseline (before epinephrine)\", \"+ epinephrine\", \n",
    "             \"After wash out (new baseline)\", \"+ acetylcholine\"]"
   ]
  },
  {
   "cell_type": "code",
   "execution_count": null,
   "metadata": {},
   "outputs": [],
   "source": [
    "### Create Table 2\n",
    "t2_HR = ...\n",
    "t2_amp = ...\n",
    "t2 = ...\n",
    "t2"
   ]
  },
  {
   "cell_type": "markdown",
   "metadata": {},
   "source": [
    "#### Table 3: Effects of Electrolytes"
   ]
  },
  {
   "cell_type": "code",
   "execution_count": null,
   "metadata": {},
   "outputs": [],
   "source": [
    "t3_labels = [\"Baseline (before KCl)\", \"+ KCl\", \n",
    "             \"Baseline (before CaCl2)\", \"+ CaCl2\"]"
   ]
  },
  {
   "cell_type": "code",
   "execution_count": null,
   "metadata": {},
   "outputs": [],
   "source": [
    "### Create Table 3\n",
    "t3_HR = ...\n",
    "t3_amp = ...\n",
    "t3 = ...\n",
    "t3"
   ]
  },
  {
   "cell_type": "markdown",
   "metadata": {},
   "source": [
    "### Accessing an Element in a List\n",
    "\n",
    "So far, lists have been helpful when it comes to creating tables, but what if you want to access only the first element in the list? Here's how:"
   ]
  },
  {
   "cell_type": "code",
   "execution_count": 3,
   "metadata": {},
   "outputs": [
    {
     "data": {
      "text/plain": [
       "1"
      ]
     },
     "execution_count": 3,
     "metadata": {},
     "output_type": "execute_result"
    }
   ],
   "source": [
    "example_list = [1, 2, 3, 4, 5]\n",
    "example_list[0]"
   ]
  },
  {
   "cell_type": "markdown",
   "metadata": {},
   "source": [
    "Using square brackets `[ ]` allows you to grab a specific element. In Python, lists start at 0, rather than 1. This is why `example_list[0]` gives you the first element, `1`."
   ]
  },
  {
   "cell_type": "markdown",
   "metadata": {},
   "source": [
    "#### Table 4: Change from Baseline\n",
    "Using the data from Tables 1, 2, and 3, create Table 4 to show the change in heart rate and R wave amplitude from the baseline. `t1_HR[2]` gives you the heart rate at warm temperature in Table 1, and `t1_HR[1]` gives you the baseline frog heart rate in Table 1. To find the change in heart rate between warm temperature and baseline, you subtract `t1_HR[2] - t1_HR[1]`. The first few have been done for you."
   ]
  },
  {
   "cell_type": "code",
   "execution_count": 2,
   "metadata": {},
   "outputs": [],
   "source": [
    "t4_labels = [\"Warm temperature\", \"Cold Temperature\", \"Epinephrine\", \n",
    "             \"Acetylcholine\", \"KCl\", \"CaCl2\"]"
   ]
  },
  {
   "cell_type": "code",
   "execution_count": null,
   "metadata": {},
   "outputs": [],
   "source": [
    "### Create Table 4\n",
    "t4_HR = [t1_HR[2] - t1_HR[1], t1_HR[4] - t1_HR[3], t2_HR[...] - t2_HR[...], \n",
    "         ..., ..., ...]\n",
    "t4_amp = [t1_amp[2] - t1_amp[1], t1_amp[4] - t1_amp[3], t2_amp[...] - t2_amp[...], \n",
    "          ..., ..., ...]\n",
    "t4 = ...\n",
    "t4"
   ]
  },
  {
   "cell_type": "markdown",
   "metadata": {},
   "source": [
    "<div class=\"alert alert-block alert-info\">\n",
    "<b>QUESTION</b> Make sure to input the data from Table 4 into the shared spreadsheet.\n",
    "</div>"
   ]
  },
  {
   "cell_type": "markdown",
   "metadata": {},
   "source": [
    "### 2b. Calculating class data\n",
    "\n",
    "<div class=\"alert alert-block alert-info\">\n",
    "<b>QUESTION</b> Using the class data, calculate the average and standard deviation for the heart rate and R wave amplitude. Put the values in a list.\n",
    "</div>"
   ]
  },
  {
   "cell_type": "code",
   "execution_count": null,
   "metadata": {},
   "outputs": [],
   "source": [
    "avg_HR = ...\n",
    "avg_amp = ...\n",
    "std_dev_HR = ...\n",
    "std_dev_amp = ..."
   ]
  },
  {
   "cell_type": "markdown",
   "metadata": {},
   "source": [
    "### 2c. Graphing class data\n",
    "\n",
    "<div class=\"alert alert-block alert-info\">\n",
    "<b>QUESTION</b> First create a table that includes the averaged heart rate, R wave amplitude, standard deviation for heart rate, and standard deviation for amplitude. Then, use the table to create a bar graph of the average data for heart rate and the standard deviation for the heart rate.\n",
    "</div>\n",
    "\n",
    "#### Table 5: Class Average"
   ]
  },
  {
   "cell_type": "code",
   "execution_count": null,
   "metadata": {},
   "outputs": [],
   "source": [
    "avg_labels = [\"Warm temperature\", \"Cold Temperature\", \"Epinephrine\", \n",
    "              \"Acetylcholine\", \"KCl\", \"CaCl2\"]"
   ]
  },
  {
   "cell_type": "code",
   "execution_count": null,
   "metadata": {},
   "outputs": [],
   "source": [
    "avg = ...\n",
    "avg"
   ]
  },
  {
   "cell_type": "markdown",
   "metadata": {},
   "source": [
    "#### Graph 1: Change in Heart Rate and Standard Deviation Error (from Class Data)"
   ]
  },
  {
   "cell_type": "code",
   "execution_count": null,
   "metadata": {},
   "outputs": [],
   "source": [
    "..."
   ]
  },
  {
   "cell_type": "markdown",
   "metadata": {},
   "source": [
    "---"
   ]
  },
  {
   "cell_type": "markdown",
   "metadata": {},
   "source": [
    "### Saving the Notebook as a PDF\n",
    "\n",
    "Congrats on finishing your third lab notebook! To turn in this lab assignment follow the steps below:\n",
    "\n",
    ">1. Press `Control + P` (or `Command + P` on Mac) to open the Print preview\n",
    "2. Change the destination so that it saves locally on your own computer.\n",
    "2. Save as PDF.\n",
    "3. If you are stuck, follow further instructions [here](https://www.wikihow.com/Save-a-Web-Page-as-a-PDF-in-Google-Chrome).\n",
    "\n",
    "Your lab instructor will explain to you what to do afterwards."
   ]
  },
  {
   "cell_type": "markdown",
   "metadata": {},
   "source": [
    "---"
   ]
  },
  {
   "cell_type": "markdown",
   "metadata": {},
   "source": [
    "#### References\n",
    "\n",
    " - UC Berkeley Foundations of Data Science (Data 8) Textbook: https://www.inferentialthinking.com/chapters/intro\n",
    " "
   ]
  },
  {
   "cell_type": "markdown",
   "metadata": {},
   "source": [
    "\n",
    " \n",
    "---\n",
    "\n",
    "Notebook developed by: Samantha Yuhan\n",
    "    \n",
    "Data Science Modules: http://data.berkeley.edu/education/modules"
   ]
  }
 ],
 "metadata": {
  "celltoolbar": "Raw Cell Format",
  "kernelspec": {
   "display_name": "Python 3",
   "language": "python",
   "name": "python3"
  },
  "language_info": {
   "codemirror_mode": {
    "name": "ipython",
    "version": 3
   },
   "file_extension": ".py",
   "mimetype": "text/x-python",
   "name": "python",
   "nbconvert_exporter": "python",
   "pygments_lexer": "ipython3",
   "version": "3.6.5"
  }
 },
 "nbformat": 4,
 "nbformat_minor": 2
}
