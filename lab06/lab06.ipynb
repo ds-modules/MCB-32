{
 "cells": [
  {
   "cell_type": "markdown",
   "metadata": {},
   "source": [
    "# [MCB 32]: Lab 06 - Frog Heart Study\n",
    "\n",
    "---\n",
    "\n",
    "### Professor Robin Ball \n",
    "Using what you learned, you will create tables for the data you collected in this lab as well as the averaged class data. You will also graph the class data, so it is easier to visualize and find major trends. \n",
    "\n",
    "*Estimated Time: ~60 Minutes*\n",
    "\n",
    "---\n",
    "\n",
    "### Table of Contents\n",
    "1. [Creating a Bar Graph](#section_1)\n",
    "\n",
    "2. [Data Analysis](#section_2)\n",
    "\n",
    "    a. [Entering your data](#section_2a)\n",
    "    \n",
    "    b. [Calculating class data](#section_2b)\n",
    "    \n",
    "    c. [Graphing class data](#section_2c)\n"
   ]
  },
  {
   "cell_type": "code",
   "execution_count": null,
   "metadata": {},
   "outputs": [],
   "source": [
    "%matplotlib inline\n",
    "\n",
    "from datascience import *\n",
    "import numpy as np\n",
    "import matplotlib.pyplot as plt\n",
    "from qgrid_bridge import *\n",
    "# from gspread_import import *"
   ]
  },
  {
   "cell_type": "markdown",
   "metadata": {},
   "source": [
    "---"
   ]
  },
  {
   "cell_type": "markdown",
   "metadata": {},
   "source": [
    "# 1. Creating a Bar Graph\n",
    "\n",
    "You will learn how to create bar graphs to help you vizualize the data. We will draw bar graphs with horizontal bars because it’s easier to label the bars that way. Let's start by creating a random table called groceries."
   ]
  },
  {
   "cell_type": "code",
   "execution_count": null,
   "metadata": {},
   "outputs": [],
   "source": [
    "item_name = [\"Apples\", \"Bananas\", \"Carrots\"]\n",
    "quantities = [5, 7, 2]\n",
    "prices = [0.20, 0.25, 0.75]\n",
    "weights = [0.33, 0.25, 0.16]"
   ]
  },
  {
   "cell_type": "code",
   "execution_count": null,
   "metadata": {},
   "outputs": [],
   "source": [
    "groceries = Table().with_columns(\n",
    "            \"Item Name\", item_name, \n",
    "            \"Quantity\", quantities, \n",
    "            \"Price\", prices,\n",
    "            \"Weight\", weights)\n",
    "groceries"
   ]
  },
  {
   "cell_type": "markdown",
   "metadata": {},
   "source": [
    "In this section, we will draw a graph of the distribution of quantities in the column `Quantity` and weights in `Weight` from the `groceries` table.\n",
    " - `select` is a handy method that creates a table with only the desired columns.\n",
    " \n",
    "We don't want the column `Price`, so we only select `Item Name`, `Quantity`, and `Weight`."
   ]
  },
  {
   "cell_type": "code",
   "execution_count": null,
   "metadata": {},
   "outputs": [],
   "source": [
    "groceries.select(\"Item Name\", \"Quantity\", \"Weight\")"
   ]
  },
  {
   "cell_type": "markdown",
   "metadata": {},
   "source": [
    "To create the bar graph, we will use `barh`.\n",
    "\n",
    " - `barh` generates a bar graph of the values in a column. The argument is the column label of the categories. You can create a bar graph using `Table.barh(COLUMN_LABEL)`.\n",
    " \n",
    "Let's plot the new `groceries` table, using `Item Name` as the column label."
   ]
  },
  {
   "cell_type": "code",
   "execution_count": null,
   "metadata": {},
   "outputs": [],
   "source": [
    "groceries.select(\"Item Name\", \"Quantity\", \"Weight\").barh(\"Item Name\")"
   ]
  },
  {
   "cell_type": "markdown",
   "metadata": {},
   "source": [
    "# 2. Data Analysis\n",
    "\n",
    "You will use what you learned last week to create tables for this lab. If you need a refresher, you can always refer back to the previous lab notebooks.\n",
    "\n",
    "### 2a. Entering your data\n",
    "\n",
    "<div class=\"alert alert-block alert-info\">\n",
    "    \n",
    "**QUESTION:** Create tables for Table 1, 2, and 3 that contain the data you collected. For the sake of efficiency, \"HR\" refers to the heart rate and \"amp\" refers to the amplitude of the R wave. The labels (column names) of each table have been saved for you in lists, so you can see where to enter and save your table data.\n",
    "\n",
    "</div>\n",
    "\n",
    "#### Table 1: Temperature Effects"
   ]
  },
  {
   "cell_type": "code",
   "execution_count": null,
   "metadata": {},
   "outputs": [],
   "source": [
    "table_1 = generate_grid(5, 3, [\"Condition\", \"HR\", \"amp\"], preset_values = {\n",
    "    \"Condition\" : [\"Human HR\", \"Basefile frog HR\", \"Warm temperature\", \"Baseline before cold\",\n",
    "                  \"Cold temperature\"]\n",
    "})\n",
    "table_1"
   ]
  },
  {
   "cell_type": "markdown",
   "metadata": {},
   "source": [
    "#### Table 2: Neurotransmitter Effects"
   ]
  },
  {
   "cell_type": "code",
   "execution_count": null,
   "metadata": {},
   "outputs": [],
   "source": [
    "table_2 = generate_grid(4, 3, [\"Condition\", \"HR\", \"amp\"], preset_values = {\n",
    "    \"Condition\" : [\"Baseline (before epinephrine)\", \"+ epinephrine\", \"After wash out (new baseline)\", \n",
    "                   \"+ acetylcholine\"]\n",
    "})\n",
    "table_2"
   ]
  },
  {
   "cell_type": "markdown",
   "metadata": {},
   "source": [
    "#### Table 3: Effects of Electrolytes"
   ]
  },
  {
   "cell_type": "code",
   "execution_count": null,
   "metadata": {},
   "outputs": [],
   "source": [
    "table_3 = generate_grid(4, 3, [\"Condition\", \"HR\", \"amp\"], preset_values = {\n",
    "    \"Condition\" : [\"Baseline (before KCl)\", \"+ KCl\", \"Baseline (before CaCl2)\", \"+ CaCl2\"]\n",
    "})\n",
    "table_3"
   ]
  },
  {
   "cell_type": "markdown",
   "metadata": {},
   "source": [
    "Run the cell below to extract the data from your spreadsheets."
   ]
  },
  {
   "cell_type": "code",
   "execution_count": null,
   "metadata": {},
   "outputs": [],
   "source": [
    "table_1 = get_table(table_1)\n",
    "table_2 = get_table(table_2)\n",
    "table_3 = get_table(table_3)"
   ]
  },
  {
   "cell_type": "markdown",
   "metadata": {},
   "source": [
    "### Accessing an Element in a List\n",
    "\n",
    "So far, lists have been helpful when it comes to creating tables, but what if you want to access only the first element in the list? Here's how:"
   ]
  },
  {
   "cell_type": "code",
   "execution_count": null,
   "metadata": {},
   "outputs": [],
   "source": [
    "example_list = [1, 2, 3, 4, 5]\n",
    "example_list[0]"
   ]
  },
  {
   "cell_type": "markdown",
   "metadata": {},
   "source": [
    "Using square brackets `[ ]` allows you to grab a specific element. In Python, lists start at 0, rather than 1. This is why `example_list[0]` gives you the first element, `1`."
   ]
  },
  {
   "cell_type": "markdown",
   "metadata": {},
   "source": [
    "#### Table 4: Change from Baseline\n",
    "<div class=\"alert alert-info\">\n",
    "    \n",
    "**QUESTION:** Using the data from Tables 1, 2, and 3, create Table 4 to show the change in heart rate and R wave amplitude from the baseline.\n",
    "\n",
    "</div>"
   ]
  },
  {
   "cell_type": "code",
   "execution_count": null,
   "metadata": {},
   "outputs": [],
   "source": [
    "table_4 = generate_grid(6, 3, [\"Condition\", \"HR\", \"amp\"], preset_values = {\n",
    "    \"Condition\" : [\"Warm temperature\", \"Cold Temperature\", \"Epinephrine\", \"Acetylcholine\", \"KCl\", \"CaCl2\"]\n",
    "})\n",
    "table_4"
   ]
  },
  {
   "cell_type": "markdown",
   "metadata": {},
   "source": [
    "<div class=\"alert alert-block alert-warning\">\n",
    "\n",
    "Make sure to input the data from Table 4 into the shared spreadsheet. **Do not continue this lab until everyone has put their data into the shared spreadsheet.**\n",
    "\n",
    "</div>"
   ]
  },
  {
   "cell_type": "markdown",
   "metadata": {},
   "source": [
    "### 2b. Calculating class data\n",
    "\n",
    "In order to make the class data available to you, we will pull it in from Google Sheets using `gspread`. To complete this process, **paste the share link for the spreadsheet into the string below** and run the cell."
   ]
  },
  {
   "cell_type": "code",
   "execution_count": null,
   "metadata": {},
   "outputs": [],
   "source": [
    "url = \"\"\n",
    "sheet_name = \"\"\n",
    "\n",
    "class_data = get_spreadsheet(url, sheet_name)\n",
    "class_data"
   ]
  },
  {
   "cell_type": "markdown",
   "metadata": {},
   "source": [
    "Now that we have all of the class data, we would like to group the heart rates and amplitudes and get some summary statistics on these groups. To group data, we use the `Table.group()` method which takes two arguments: the name of a column and an _aggregator function_ to which an array of all of the values in a group will be passed.\n",
    "\n",
    "This means that if we wanted the mean HR of the groups in the `Condition` column, we would make a call like the one below:"
   ]
  },
  {
   "cell_type": "code",
   "execution_count": null,
   "metadata": {},
   "outputs": [],
   "source": [
    "averages = class_data.group(\"Condition\", np.mean)\n",
    "averages"
   ]
  },
  {
   "cell_type": "markdown",
   "metadata": {},
   "source": [
    "You should now have a table where each cell represents the mean of the HRs/amplitudes for the specified condition."
   ]
  },
  {
   "cell_type": "markdown",
   "metadata": {},
   "source": [
    "<div class=\"alert alert-info\">\n",
    "\n",
    "**QUESTION:** Create another table, `sdevs`, with the standard deviations for each `Condition` group by filling in the function call below.\n",
    "\n",
    "</div>\n",
    "\n",
    "_Hint:_ The function `np.std` returns the standard deviation of an array of values."
   ]
  },
  {
   "cell_type": "code",
   "execution_count": null,
   "metadata": {},
   "outputs": [],
   "source": [
    "sdevs = class_data.group(..., ...)\n",
    "sdevs"
   ]
  },
  {
   "cell_type": "markdown",
   "metadata": {},
   "source": [
    "Finally, we want to concatenate these tables into a single table which will have a single `Condition` column, a column each for the HR mean and standard deviation, and a column each for the amplitude mean and standard deviation. This is accomplished using `Table.join()`:"
   ]
  },
  {
   "cell_type": "code",
   "execution_count": null,
   "metadata": {},
   "outputs": [],
   "source": [
    "class_data = averages.join(\"Condition\", sdevs)"
   ]
  },
  {
   "cell_type": "markdown",
   "metadata": {},
   "source": [
    "### 2c. Graphing class data\n",
    "\n",
    "Before we have you graph the class data, let's consider how to add error bars to a bar graph. Consider the bar plot below using our `groceries` table from earlier."
   ]
  },
  {
   "cell_type": "code",
   "execution_count": null,
   "metadata": {},
   "outputs": [],
   "source": [
    "groceries.drop(\"Quantity\").barh(\"Item Name\")"
   ]
  },
  {
   "cell_type": "markdown",
   "metadata": {},
   "source": [
    "Let's say we want to (quite arbitrarily) include error bars to $\\pm$ 20% of the values shown in the bar graph. We would start by adding these errors to the table:"
   ]
  },
  {
   "cell_type": "code",
   "execution_count": null,
   "metadata": {},
   "outputs": [],
   "source": [
    "groceries = groceries.with_columns(\n",
    "    \"Price Error\", [.2 * i for i in groceries.column(\"Price\")],\n",
    "    \"Weight Error\", [.2 * i for i in groceries.column(\"Weight\")]\n",
    ")\n",
    "groceries"
   ]
  },
  {
   "cell_type": "markdown",
   "metadata": {},
   "source": [
    "To generate a plot with error bars, we need to use the `matplotlib` code that you've learned about in previous labs. The code below generates a nice barplot, like the one that `Table.barh()` makes, which is why it's so verbose."
   ]
  },
  {
   "cell_type": "code",
   "execution_count": null,
   "metadata": {},
   "outputs": [],
   "source": [
    "# defining the colors that the datascience package provides for us\n",
    "blue = (0.0, 30/256, 66/256)\n",
    "blue = tuple((x + 0.7)/2 for x in blue)\n",
    "gold = (1.0, 200/256, 44/256)\n",
    "\n",
    "# generating the bar plot\n",
    "plt.barh(np.arange(groceries.num_rows), groceries.column(\"Price\"), height=0.4, \n",
    "         xerr=groceries.column(\"Price Error\"), color=blue)\n",
    "plt.barh(np.arange(groceries.num_rows ) - 0.4, groceries.column(\"Weight\"), height=0.4, \n",
    "         xerr=groceries.column(\"Weight Error\"), color=gold)\n",
    "plt.yticks([-0.25, .75, 1.75], labels=groceries.column(\"Item Name\"))\n",
    "plt.xlabel(\"Value\")\n",
    "plt.ylabel(\"Item Name\")\n",
    "plt.legend([\"Price\", \"Weight\"], loc=1, bbox_to_anchor=(1.3, 1));"
   ]
  },
  {
   "cell_type": "markdown",
   "metadata": {},
   "source": [
    "The essential part of the code is adding the `xerr` parameter to the `plt.barh()` call. This is an array of the errors for each value along the $y$-axis."
   ]
  },
  {
   "cell_type": "markdown",
   "metadata": {},
   "source": [
    "#### Graph 1: Change in Heart Rate and Standard Deviation Error (from Class Data)"
   ]
  },
  {
   "cell_type": "markdown",
   "metadata": {},
   "source": [
    "<div class=\"alert alert-block alert-info\">\n",
    "    \n",
    "**QUESTION:** Use the table we just created to make a bar graph of the average data for heart rate and amplitude. _Include error bars using the standard deviation as the error._\n",
    "\n",
    "</div>\n",
    "\n",
    "_Hint:_ You already have the error information in the `class_data` table since we put the standard deviations in earlier. How can you adapt the code above to use data and column names from that table instead of the `groceries` table?"
   ]
  },
  {
   "cell_type": "code",
   "execution_count": null,
   "metadata": {},
   "outputs": [],
   "source": [
    "..."
   ]
  },
  {
   "cell_type": "markdown",
   "metadata": {},
   "source": [
    "---\n",
    "### Saving the Notebook as a PDF\n",
    "\n",
    "Congrats on finishing your first lab notebook! To turn in this lab assignment follow the steps below:\n",
    "\n",
    ">1. Press `Control + P` (or `Command + P` on Mac) to open the Print preview\n",
    "2. Change the destination so that it saves locally on your own computer.\n",
    "3. Save as PDF\n",
    "4. If you are stuck, follow further instructions [here](https://www.wikihow.com/Save-a-Web-Page-as-a-PDF-in-Google-Chrome).\n",
    "\n",
    "Your lab instructor will explain to you what to do afterwards.\n",
    "---\n",
    "#### References\n",
    "\n",
    "- UC Berkeley Foundations of Data Science (Data 8) Textbook: https://www.inferentialthinking.com/chapters/intro\n",
    "\n",
    "---\n",
    "\n",
    "Notebook developed by: Samantha Yuan and Chris Pyles\n",
    "\n",
    "Data Science Modules: http://data.berkeley.edu/education/modules\n"
   ]
  },
  {
   "cell_type": "markdown",
   "metadata": {},
   "source": [
    " "
   ]
  }
 ],
 "metadata": {
  "@webio": {
   "lastCommId": null,
   "lastKernelId": null
  },
  "celltoolbar": "Raw Cell Format",
  "kernelspec": {
   "display_name": "Python 3",
   "language": "python",
   "name": "python3"
  },
  "language_info": {
   "codemirror_mode": {
    "name": "ipython",
    "version": 3
   },
   "file_extension": ".py",
   "mimetype": "text/x-python",
   "name": "python",
   "nbconvert_exporter": "python",
   "pygments_lexer": "ipython3",
   "version": "3.6.5"
  },
  "varInspector": {
   "cols": {
    "lenName": 16,
    "lenType": 16,
    "lenVar": 40
   },
   "kernels_config": {
    "python": {
     "delete_cmd_postfix": "",
     "delete_cmd_prefix": "del ",
     "library": "var_list.py",
     "varRefreshCmd": "print(var_dic_list())"
    },
    "r": {
     "delete_cmd_postfix": ") ",
     "delete_cmd_prefix": "rm(",
     "library": "var_list.r",
     "varRefreshCmd": "cat(var_dic_list()) "
    }
   },
   "types_to_exclude": [
    "module",
    "function",
    "builtin_function_or_method",
    "instance",
    "_Feature"
   ],
   "window_display": false
  }
 },
 "nbformat": 4,
 "nbformat_minor": 2
}
