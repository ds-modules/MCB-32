{
 "cells": [
  {
   "cell_type": "markdown",
   "metadata": {},
   "source": [
    "# [MCB 32]: Lab 06 - Frog Heart Study\n",
    "\n",
    "---\n",
    "\n",
    "### Professor Robin Ball \n",
    "Using what you learned, you will create tables for the data you collected in this lab as well as the averaged class data. You will also graph the class data, so it is easier to visualize and find major trends. \n",
    "\n",
    "*Estimated Time: ~60 Minutes*\n",
    "\n",
    "---\n",
    "\n",
    "### Table of Contents\n",
    "1. [Creating a Bar Graph](#section_1)\n",
    "\n",
    "2. [Data Analysis](#section_2)\n",
    "\n",
    "    a. [Entering your data](#section_2a)\n",
    "    \n",
    "    b. [Calculating class data](#section_2b)\n",
    "    \n",
    "    c. [Graphing class data](#section_2c)\n"
   ]
  },
  {
   "cell_type": "code",
   "execution_count": 12,
   "metadata": {},
   "outputs": [
    {
     "ename": "ModuleNotFoundError",
     "evalue": "No module named 'oauth2client'",
     "output_type": "error",
     "traceback": [
      "\u001b[0;31m---------------------------------------------------------------------------\u001b[0m",
      "\u001b[0;31mModuleNotFoundError\u001b[0m                       Traceback (most recent call last)",
      "\u001b[0;32m<ipython-input-12-50cc85556b53>\u001b[0m in \u001b[0;36m<module>\u001b[0;34m()\u001b[0m\n\u001b[1;32m      5\u001b[0m \u001b[0;32mimport\u001b[0m \u001b[0mmatplotlib\u001b[0m\u001b[0;34m.\u001b[0m\u001b[0mpyplot\u001b[0m \u001b[0;32mas\u001b[0m \u001b[0mplt\u001b[0m\u001b[0;34m\u001b[0m\u001b[0m\n\u001b[1;32m      6\u001b[0m \u001b[0;32mfrom\u001b[0m \u001b[0mqgrid_bridge\u001b[0m \u001b[0;32mimport\u001b[0m \u001b[0;34m*\u001b[0m\u001b[0;34m\u001b[0m\u001b[0m\n\u001b[0;32m----> 7\u001b[0;31m \u001b[0;32mfrom\u001b[0m \u001b[0mgspread_import\u001b[0m \u001b[0;32mimport\u001b[0m \u001b[0;34m*\u001b[0m\u001b[0;34m\u001b[0m\u001b[0m\n\u001b[0m",
      "\u001b[0;32m~/GitHub/MCB-32/lab06/gspread_import.py\u001b[0m in \u001b[0;36m<module>\u001b[0;34m()\u001b[0m\n\u001b[1;32m      3\u001b[0m \u001b[0;32mimport\u001b[0m \u001b[0mos\u001b[0m\u001b[0;34m\u001b[0m\u001b[0m\n\u001b[1;32m      4\u001b[0m \u001b[0;32mimport\u001b[0m \u001b[0mjson\u001b[0m\u001b[0;34m\u001b[0m\u001b[0m\n\u001b[0;32m----> 5\u001b[0;31m \u001b[0;32mfrom\u001b[0m \u001b[0moauth2client\u001b[0m\u001b[0;34m.\u001b[0m\u001b[0mservice_account\u001b[0m \u001b[0;32mimport\u001b[0m \u001b[0mServiceAccountCredentials\u001b[0m\u001b[0;34m\u001b[0m\u001b[0m\n\u001b[0m\u001b[1;32m      6\u001b[0m \u001b[0;34m\u001b[0m\u001b[0m\n\u001b[1;32m      7\u001b[0m \u001b[0;31m# Authenticate to Google\u001b[0m\u001b[0;34m\u001b[0m\u001b[0;34m\u001b[0m\u001b[0m\n",
      "\u001b[0;31mModuleNotFoundError\u001b[0m: No module named 'oauth2client'"
     ]
    }
   ],
   "source": [
    "%matplotlib inline\n",
    "\n",
    "from datascience import *\n",
    "import numpy as np\n",
    "import matplotlib.pyplot as plt\n",
    "from qgrid_bridge import *\n",
    "from gspread_import import *"
   ]
  },
  {
   "cell_type": "markdown",
   "metadata": {},
   "source": [
    "---"
   ]
  },
  {
   "cell_type": "markdown",
   "metadata": {},
   "source": [
    "# 1. Creating a Bar Graph\n",
    "\n",
    "You will learn how to create bar graphs to help you vizualize the data. We will draw bar graphs with horizontal bars because it’s easier to label the bars that way. Let's start by creating a random table called groceries."
   ]
  },
  {
   "cell_type": "code",
   "execution_count": 2,
   "metadata": {},
   "outputs": [],
   "source": [
    "item_name = [\"Apples\", \"Bananas\", \"Carrots\"]\n",
    "quantities = [5, 7, 2]\n",
    "prices = [0.20, 0.25, 0.75]\n",
    "weights = [0.33, 0.25, 0.16]"
   ]
  },
  {
   "cell_type": "code",
   "execution_count": 3,
   "metadata": {},
   "outputs": [
    {
     "data": {
      "text/html": [
       "<table border=\"1\" class=\"dataframe\">\n",
       "    <thead>\n",
       "        <tr>\n",
       "            <th>Item Name</th> <th>Quantity</th> <th>Price</th> <th>Weight</th>\n",
       "        </tr>\n",
       "    </thead>\n",
       "    <tbody>\n",
       "        <tr>\n",
       "            <td>Apples   </td> <td>5       </td> <td>0.2  </td> <td>0.33  </td>\n",
       "        </tr>\n",
       "        <tr>\n",
       "            <td>Bananas  </td> <td>7       </td> <td>0.25 </td> <td>0.25  </td>\n",
       "        </tr>\n",
       "        <tr>\n",
       "            <td>Carrots  </td> <td>2       </td> <td>0.75 </td> <td>0.16  </td>\n",
       "        </tr>\n",
       "    </tbody>\n",
       "</table>"
      ],
      "text/plain": [
       "Item Name | Quantity | Price | Weight\n",
       "Apples    | 5        | 0.2   | 0.33\n",
       "Bananas   | 7        | 0.25  | 0.25\n",
       "Carrots   | 2        | 0.75  | 0.16"
      ]
     },
     "execution_count": 3,
     "metadata": {},
     "output_type": "execute_result"
    }
   ],
   "source": [
    "groceries = Table().with_columns(\n",
    "            \"Item Name\", item_name, \n",
    "            \"Quantity\", quantities, \n",
    "            \"Price\", prices,\n",
    "            \"Weight\", weights)\n",
    "groceries"
   ]
  },
  {
   "cell_type": "markdown",
   "metadata": {},
   "source": [
    "In this section, we will draw a graph of the distribution of quantities in the column `Quantity` and weights in `Weight` from the `groceries` table.\n",
    " - `select` is a handy method that creates a table with only the desired columns.\n",
    " \n",
    "We don't want the column `Price`, so we only select `Item Name`, `Quantity`, and `Weight`."
   ]
  },
  {
   "cell_type": "code",
   "execution_count": 4,
   "metadata": {},
   "outputs": [
    {
     "data": {
      "text/html": [
       "<table border=\"1\" class=\"dataframe\">\n",
       "    <thead>\n",
       "        <tr>\n",
       "            <th>Item Name</th> <th>Quantity</th> <th>Weight</th>\n",
       "        </tr>\n",
       "    </thead>\n",
       "    <tbody>\n",
       "        <tr>\n",
       "            <td>Apples   </td> <td>5       </td> <td>0.33  </td>\n",
       "        </tr>\n",
       "        <tr>\n",
       "            <td>Bananas  </td> <td>7       </td> <td>0.25  </td>\n",
       "        </tr>\n",
       "        <tr>\n",
       "            <td>Carrots  </td> <td>2       </td> <td>0.16  </td>\n",
       "        </tr>\n",
       "    </tbody>\n",
       "</table>"
      ],
      "text/plain": [
       "Item Name | Quantity | Weight\n",
       "Apples    | 5        | 0.33\n",
       "Bananas   | 7        | 0.25\n",
       "Carrots   | 2        | 0.16"
      ]
     },
     "execution_count": 4,
     "metadata": {},
     "output_type": "execute_result"
    }
   ],
   "source": [
    "groceries.select(\"Item Name\", \"Quantity\", \"Weight\")"
   ]
  },
  {
   "cell_type": "markdown",
   "metadata": {},
   "source": [
    "To create the bar graph, we will use `barh`.\n",
    "\n",
    " - `barh` generates a bar graph of the values in a column. The argument is the column label of the categories. You can create a bar graph using `Table.barh(COLUMN_LABEL)`.\n",
    " \n",
    "Let's plot the new `groceries` table, using `Item Name` as the column label."
   ]
  },
  {
   "cell_type": "code",
   "execution_count": 5,
   "metadata": {},
   "outputs": [
    {
     "data": {
      "image/png": "[encoded data removed]",
      "text/plain": [
       "<Figure size 432x288 with 1 Axes>"
      ]
     },
     "metadata": {},
     "output_type": "display_data"
    }
   ],
   "source": [
    "groceries.select(\"Item Name\", \"Quantity\", \"Weight\").barh(\"Item Name\")"
   ]
  },
  {
   "cell_type": "markdown",
   "metadata": {},
   "source": [
    "# 2. Data Analysis\n",
    "\n",
    "You will use what you learned last week to create tables for this lab. If you need a refresher, you can always refer back to the previous lab notebooks.\n",
    "\n",
    "### 2a. Entering your data\n",
    "\n",
    "<div class=\"alert alert-block alert-info\">\n",
    "    \n",
    "**QUESTION:** Create tables for Table 1, 2, and 3 that contain the data you collected. For the sake of efficiency, \"HR\" refers to the heart rate and \"amp\" refers to the amplitude of the R wave. The labels (column names) of each table have been saved for you in lists, so you can see where to enter and save your table data.\n",
    "\n",
    "</div>\n",
    "\n",
    "#### Table 1: Temperature Effects"
   ]
  },
  {
   "cell_type": "code",
   "execution_count": 2,
   "metadata": {},
   "outputs": [
    {
     "data": {
      "application/vnd.jupyter.widget-view+json": {
       "model_id": "41dc093bd1014c6da5abe35797014a5b",
       "version_major": 2,
       "version_minor": 0
      },
      "text/plain": [
       "QgridWidget(grid_options={'fullWidthRows': True, 'syncColumnCellResize': True, 'forceFitColumns': True, 'defau…"
      ]
     },
     "metadata": {},
     "output_type": "display_data"
    }
   ],
   "source": [
    "table_1 = generate_grid(5, 3, [\"Condition\", \"HR\", \"amp\"], preset_values = {\n",
    "    \"Condition\" : [\"Human HR\", \"Basefile frog HR\", \"Warm temperature\", \"Baseline before cold\",\n",
    "                  \"Cold temperature\"]\n",
    "})\n",
    "table_1"
   ]
  },
  {
   "cell_type": "markdown",
   "metadata": {},
   "source": [
    "#### Table 2: Neurotransmitter Effects"
   ]
  },
  {
   "cell_type": "code",
   "execution_count": 3,
   "metadata": {},
   "outputs": [
    {
     "data": {
      "application/vnd.jupyter.widget-view+json": {
       "model_id": "8e9d3a5508c64727a43c9da87fd99851",
       "version_major": 2,
       "version_minor": 0
      },
      "text/plain": [
       "QgridWidget(grid_options={'fullWidthRows': True, 'syncColumnCellResize': True, 'forceFitColumns': True, 'defau…"
      ]
     },
     "metadata": {},
     "output_type": "display_data"
    }
   ],
   "source": [
    "table_2 = generate_grid(4, 3, [\"Condition\", \"HR\", \"amp\"], preset_values = {\n",
    "    \"Condition\" : [\"Baseline (before epinephrine)\", \"+ epinephrine\", \"After wash out (new baseline)\", \n",
    "                   \"+ acetylcholine\"]\n",
    "})\n",
    "table_2"
   ]
  },
  {
   "cell_type": "markdown",
   "metadata": {},
   "source": [
    "#### Table 3: Effects of Electrolytes"
   ]
  },
  {
   "cell_type": "code",
   "execution_count": 4,
   "metadata": {},
   "outputs": [
    {
     "data": {
      "application/vnd.jupyter.widget-view+json": {
       "model_id": "60c9a4cfe28d453587d6e5b466fbf2d1",
       "version_major": 2,
       "version_minor": 0
      },
      "text/plain": [
       "QgridWidget(grid_options={'fullWidthRows': True, 'syncColumnCellResize': True, 'forceFitColumns': True, 'defau…"
      ]
     },
     "metadata": {},
     "output_type": "display_data"
    }
   ],
   "source": [
    "table_3 = generate_grid(4, 3, [\"Condition\", \"HR\", \"amp\"], preset_values = {\n",
    "    \"Condition\" : [\"Baseline (before KCl)\", \"+ KCl\", \"Baseline (before CaCl2)\", \"+ CaCl2\"]\n",
    "})\n",
    "table_3"
   ]
  },
  {
   "cell_type": "markdown",
   "metadata": {},
   "source": [
    "Run the cell below to extract the data from your spreadsheets."
   ]
  },
  {
   "cell_type": "code",
   "execution_count": null,
   "metadata": {},
   "outputs": [],
   "source": [
    "table_1 = get_table(table_1)\n",
    "table_2 = get_table(table_2)\n",
    "table_3 = get_table(table_3)"
   ]
  },
  {
   "cell_type": "markdown",
   "metadata": {},
   "source": [
    "### Accessing an Element in a List\n",
    "\n",
    "So far, lists have been helpful when it comes to creating tables, but what if you want to access only the first element in the list? Here's how:"
   ]
  },
  {
   "cell_type": "code",
   "execution_count": null,
   "metadata": {},
   "outputs": [],
   "source": [
    "example_list = [1, 2, 3, 4, 5]\n",
    "example_list[0]"
   ]
  },
  {
   "cell_type": "markdown",
   "metadata": {},
   "source": [
    "Using square brackets `[ ]` allows you to grab a specific element. In Python, lists start at 0, rather than 1. This is why `example_list[0]` gives you the first element, `1`."
   ]
  },
  {
   "cell_type": "markdown",
   "metadata": {},
   "source": [
    "#### Table 4: Change from Baseline\n",
    "<div class=\"alert alert-info\">\n",
    "    \n",
    "**QUESTION:** Using the data from Tables 1, 2, and 3, create Table 4 to show the change in heart rate and R wave amplitude from the baseline.\n",
    "\n",
    "</div>"
   ]
  },
  {
   "cell_type": "code",
   "execution_count": 6,
   "metadata": {},
   "outputs": [
    {
     "data": {
      "application/vnd.jupyter.widget-view+json": {
       "model_id": "2086dd0877b34bbf875b104cf3ff15cd",
       "version_major": 2,
       "version_minor": 0
      },
      "text/plain": [
       "QgridWidget(grid_options={'fullWidthRows': True, 'syncColumnCellResize': True, 'forceFitColumns': True, 'defau…"
      ]
     },
     "metadata": {},
     "output_type": "display_data"
    }
   ],
   "source": [
    "table_4 = generate_grid(6, 3, [\"Condition\", \"HR\", \"amp\"], preset_values = {\n",
    "    \"Condition\" : [\"Warm temperature\", \"Cold Temperature\", \"Epinephrine\", \"Acetylcholine\", \"KCl\", \"CaCl2\"]\n",
    "})\n",
    "table_4"
   ]
  },
  {
   "cell_type": "markdown",
   "metadata": {},
   "source": [
    "<div class=\"alert alert-block alert-warning\">\n",
    "\n",
    "Make sure to input the data from Table 4 into the shared spreadsheet. **Do not continue this lab until everyone has put their data into the shared spreadsheet.**\n",
    "\n",
    "</div>"
   ]
  },
  {
   "cell_type": "markdown",
   "metadata": {},
   "source": [
    "### 2b. Calculating class data\n",
    "\n",
    "In order to make the class data available to you, we will pull it in from Google Sheets using `gspread`. To complete this process, **paste the share link for the spreadsheet into the string below** and run the cell."
   ]
  },
  {
   "cell_type": "code",
   "execution_count": 7,
   "metadata": {},
   "outputs": [
    {
     "ename": "NameError",
     "evalue": "name 'get_spreadsheet' is not defined",
     "output_type": "error",
     "traceback": [
      "\u001b[0;31m---------------------------------------------------------------------------\u001b[0m",
      "\u001b[0;31mNameError\u001b[0m                                 Traceback (most recent call last)",
      "\u001b[0;32m<ipython-input-7-5f97ee6a9690>\u001b[0m in \u001b[0;36m<module>\u001b[0;34m()\u001b[0m\n\u001b[0;32m----> 1\u001b[0;31m \u001b[0mget_spreadsheet\u001b[0m\u001b[0;34m(\u001b[0m\u001b[0;34m\"https://docs.google.com/spreadsheets/d/1XV_y6_UXHwCswzCv6Koo6S6CHyAKqu4MzPyzgD5pPYM/edit?usp=sharing\"\u001b[0m\u001b[0;34m,\u001b[0m \u001b[0;34m\"Some Sheet\"\u001b[0m\u001b[0;34m)\u001b[0m\u001b[0;34m\u001b[0m\u001b[0m\n\u001b[0m",
      "\u001b[0;31mNameError\u001b[0m: name 'get_spreadsheet' is not defined"
     ]
    }
   ],
   "source": [
    "get_spreadsheet(\"https://docs.google.com/spreadsheets/d/1XV_y6_UXHwCswzCv6Koo6S6CHyAKqu4MzPyzgD5pPYM/edit?usp=sharing\", \"Some Sheet\")"
   ]
  },
  {
   "cell_type": "code",
   "execution_count": null,
   "metadata": {},
   "outputs": [],
   "source": [
    "avg_HR = ...\n",
    "avg_amp = ...\n",
    "std_dev_HR = ...\n",
    "std_dev_amp = ..."
   ]
  },
  {
   "cell_type": "markdown",
   "metadata": {},
   "source": [
    "### 2c. Graphing class data\n",
    "\n",
    "<div class=\"alert alert-block alert-info\">\n",
    "<b>QUESTION</b> First create a table that includes the averaged heart rate, R wave amplitude, standard deviation for heart rate, and standard deviation for amplitude. Then, use the table to create a bar graph of the average data for heart rate and the standard deviation for the heart rate.\n",
    "</div>\n",
    "\n",
    "#### Table 5: Class Average"
   ]
  },
  {
   "cell_type": "code",
   "execution_count": null,
   "metadata": {},
   "outputs": [],
   "source": [
    "avg_labels = [\"Warm temperature\", \"Cold Temperature\", \"Epinephrine\", \n",
    "              \"Acetylcholine\", \"KCl\", \"CaCl2\"]"
   ]
  },
  {
   "cell_type": "code",
   "execution_count": null,
   "metadata": {},
   "outputs": [],
   "source": [
    "avg = ...\n",
    "avg"
   ]
  },
  {
   "cell_type": "markdown",
   "metadata": {},
   "source": [
    "#### Graph 1: Change in Heart Rate and Standard Deviation Error (from Class Data)"
   ]
  },
  {
   "cell_type": "code",
   "execution_count": null,
   "metadata": {},
   "outputs": [],
   "source": [
    "..."
   ]
  },
  {
   "cell_type": "markdown",
   "metadata": {},
   "source": [
    "---\n",
    "### Saving the Notebook as a PDF\n",
    "\n",
    "Congrats on finishing your first lab notebook! To turn in this lab assignment follow the steps below:\n",
    "\n",
    ">1. Press `Control + P` (or `Command + P` on Mac) to open the Print preview\n",
    "2. Change the destination so that it saves locally on your own computer.\n",
    "3. Save as PDF\n",
    "4. If you are stuck, follow further instructions [here](https://www.wikihow.com/Save-a-Web-Page-as-a-PDF-in-Google-Chrome).\n",
    "\n",
    "Your lab instructor will explain to you what to do afterwards.\n",
    "---\n",
    "#### References\n",
    "\n",
    "- UC Berkeley Foundations of Data Science (Data 8) Textbook: https://www.inferentialthinking.com/chapters/intro\n",
    "\n",
    "---\n",
    "\n",
    "Notebook developed by: Samantha Yuan and Chris Pyles\n",
    "\n",
    "Data Science Modules: http://data.berkeley.edu/education/modules\n"
   ]
  },
  {
   "cell_type": "markdown",
   "metadata": {},
   "source": [
    " "
   ]
  }
 ],
 "metadata": {
  "@webio": {
   "lastCommId": null,
   "lastKernelId": null
  },
  "celltoolbar": "Raw Cell Format",
  "kernelspec": {
   "display_name": "Python 3",
   "language": "python",
   "name": "python3"
  },
  "language_info": {
   "codemirror_mode": {
    "name": "ipython",
    "version": 3
   },
   "file_extension": ".py",
   "mimetype": "text/x-python",
   "name": "python",
   "nbconvert_exporter": "python",
   "pygments_lexer": "ipython3",
   "version": "3.6.5"
  },
  "varInspector": {
   "cols": {
    "lenName": 16,
    "lenType": 16,
    "lenVar": 40
   },
   "kernels_config": {
    "python": {
     "delete_cmd_postfix": "",
     "delete_cmd_prefix": "del ",
     "library": "var_list.py",
     "varRefreshCmd": "print(var_dic_list())"
    },
    "r": {
     "delete_cmd_postfix": ") ",
     "delete_cmd_prefix": "rm(",
     "library": "var_list.r",
     "varRefreshCmd": "cat(var_dic_list()) "
    }
   },
   "types_to_exclude": [
    "module",
    "function",
    "builtin_function_or_method",
    "instance",
    "_Feature"
   ],
   "window_display": false
  }
 },
 "nbformat": 4,
 "nbformat_minor": 2
}
