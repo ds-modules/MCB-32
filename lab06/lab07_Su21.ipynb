{
 "cells": [
  {
   "cell_type": "markdown",
   "metadata": {},
   "source": [
    "# MCB 32: Lab 07 - Frog Heart Study\n",
    "\n",
    "---\n",
    "\n",
    "### Professor Robin Ball \n",
    "Using what you learned, you will create a table for the averaged class data. You will also graph the class data, so it is easier to visualize and find major trends. \n",
    "\n",
    "*Estimated Time: ~30 Minutes*\n",
    "\n",
    "---\n",
    "\n",
    "### Table of Contents\n",
    "1. [Creating a Bar Graph](#section_1)\n",
    "2. [Data Analysis](#section_2) <br>\n",
    "&nbsp;&nbsp;&nbsp; a. [Entering your data](#section_2a)<br>\n",
    "&nbsp;&nbsp;&nbsp; b. [Calculating class data](#section_2b)<br>\n",
    "&nbsp;&nbsp;&nbsp; c. [Graphing class data](#section_2c)\n"
   ]
  },
  {
   "cell_type": "code",
   "execution_count": null,
   "metadata": {
    "scrolled": true
   },
   "outputs": [],
   "source": [
    "!pip install --upgrade oauth2client  \n",
    "from datascience import *\n",
    "%matplotlib inline\n",
    "import numpy as np\n",
    "import pandas as pd\n",
    "import matplotlib.pyplot as plt"
   ]
  },
  {
   "cell_type": "markdown",
   "metadata": {},
   "source": [
    "---"
   ]
  },
  {
   "cell_type": "markdown",
   "metadata": {},
   "source": [
    "# 1. Creating a Bar Graph <a id=\"section_1\"></a>\n",
    "\n",
    "You will learn how to create bar graphs to help you vizualize the data. We will draw bar graphs with horizontal bars because it’s easier to label the bars that way. Let's start by creating a random table called groceries."
   ]
  },
  {
   "cell_type": "code",
   "execution_count": null,
   "metadata": {
    "scrolled": true
   },
   "outputs": [],
   "source": [
    "item_name = [\"Apples\", \"Bananas\", \"Carrots\"]\n",
    "quantities = [5, 7, 2]\n",
    "prices = [0.20, 0.25, 0.75]\n",
    "weights = [0.33, 0.25, 0.16]"
   ]
  },
  {
   "cell_type": "code",
   "execution_count": null,
   "metadata": {
    "scrolled": true
   },
   "outputs": [],
   "source": [
    "groceries = Table().with_columns(\n",
    "            \"Item Name\", item_name, \n",
    "            \"Quantity\", quantities, \n",
    "            \"Price\", prices,\n",
    "            \"Weight\", weights)\n",
    "groceries"
   ]
  },
  {
   "cell_type": "markdown",
   "metadata": {},
   "source": [
    "In this section, we will draw a graph of the distribution of quantities in the column `Quantity` and weights in `Weight` from the `groceries` table.\n",
    " - `select` is a handy method that creates a table with only the desired columns.\n",
    " \n",
    "We don't want the column `Price`, so we only select `Item Name`, `Quantity`, and `Weight`."
   ]
  },
  {
   "cell_type": "code",
   "execution_count": null,
   "metadata": {
    "scrolled": true
   },
   "outputs": [],
   "source": [
    "groceries.select(\"Item Name\", \"Quantity\", \"Weight\")"
   ]
  },
  {
   "cell_type": "markdown",
   "metadata": {},
   "source": [
    "To create the bar graph, we will use `barh`.\n",
    "\n",
    " - `barh` generates a bar graph of the values in a column. The argument is the column label of the categories. You can create a bar graph using `Table.barh(COLUMN_LABEL)`.\n",
    " \n",
    "Let's plot the new `groceries` table, using `Item Name` as the column label. The item names will appear on the vertical axis and the quantity and weight will be graphed for each item."
   ]
  },
  {
   "cell_type": "code",
   "execution_count": null,
   "metadata": {
    "scrolled": true
   },
   "outputs": [],
   "source": [
    "groceries.select(\"Item Name\", \"Quantity\", \"Weight\").barh(\"Item Name\")"
   ]
  },
  {
   "cell_type": "markdown",
   "metadata": {},
   "source": [
    "# 2. Data Analysis <a id=\"section_2\"></a>\n"
   ]
  },
  {
   "cell_type": "markdown",
   "metadata": {},
   "source": [
    "### Calculating class data <a id=\"section_2b\"></a>\n",
    "\n",
    "In order to make the class data available to you, we will pull it in from Google Sheets using `gspread`. To complete this process, we have pasted in the share link for the spreadsheet into the string `url` below and the sheet name in the string `sheet_name` (last year this was lab 6, so that's why the sheet name is called \"Lab6_data\". Note that the heart rate numbers are the change in heart rate from baseline. Just run the cell to get the data."
   ]
  },
  {
   "cell_type": "code",
   "execution_count": null,
   "metadata": {
    "scrolled": false
   },
   "outputs": [],
   "source": [
    "#Run this cell\n",
    "url = \"https://docs.google.com/spreadsheets/d/1A8aC4RsDnHBQjCrImudGgdVni0vX08Ve3uaIB01zw28/edit#gid=671693070\"\n"
    "url = url.replace(\"/edit#gid=\", \"/export?format=csv&gid=\")\n",
    "\n",
    "class_data_df = pd.read_csv(url, usecols=[\"Condition\", \"HR\"], dtype={\"Condition\": str, \"HR\": float})\n",
    "class_data = Table.from_df(class_data_df)\n",
    "class_data"
   ]
  },
  {
   "cell_type": "markdown",
   "metadata": {},
   "source": [
    "Now that we have all of the class data, we would like to group the heart rates and get some summary statistics on these groups. To group data, we use the `Table.group()` method which takes two arguments: the name of a column and an _aggregator function_ to which an array of all of the values in a group will be passed.\n",
    "\n",
    "This means that if we wanted the mean HR of the groups in the `Condition` column, we would make a call like the one below:"
   ]
  },
  {
   "cell_type": "code",
   "execution_count": null,
   "metadata": {
    "scrolled": true
   },
   "outputs": [],
   "source": [
    "averages = class_data.group(\"Condition\", np.mean).select(\"Condition\", \"HR mean\")\n",
    "\n",
    "# maintaining the order of the Condition variable\n",
    "conditions = [\"Warm temperature\", \"Cold temperature\", \"Epinephrine\", \"Acetylcholine\", \"KCl\", \"CaCl2\"]\n",
    "averages = Table.from_df(averages.to_df().set_index(\"Condition\").reindex(conditions).reset_index())\n",
    "averages"
   ]
  },
  {
   "cell_type": "markdown",
   "metadata": {},
   "source": [
    "You should now have a table where each cell represents the mean of the change in heart rate for the specified condition."
   ]
  },
  {
   "cell_type": "markdown",
   "metadata": {},
   "source": [
    "<div class=\"alert alert-info\">\n",
    "\n",
    "**QUESTION:** Create another table, `sdevs`, with the standard deviations for each `Condition` group by filling in the function call below.\n",
    "\n",
    "</div>\n",
    "\n",
    "_Hint:_ The function `np.std` returns the standard deviation of an array of values. Follow the same pattern as you did for `np.mean` above and select the columns \"Condition\" and \"HR std\"."
   ]
  },
  {
   "cell_type": "code",
   "execution_count": null,
   "metadata": {
    "scrolled": true
   },
   "outputs": [],
   "source": [
    "sdevs = class_data.group(...)\n",
    "\n",
    "# DO NOT EDIT ANY CODE BELOW THIS COMMENT\n",
    "# maintaining the order of the Condition variable\n",
    "conditions = [\"Warm temperature\", \"Cold temperature\", \"Epinephrine\", \"Acetylcholine\", \"KCl\", \"CaCl2\"]\n",
    "sdevs = Table.from_df(sdevs.to_df().set_index(\"Condition\").reindex(conditions).reset_index())\n",
    "sdevs"
   ]
  },
  {
   "cell_type": "markdown",
   "metadata": {},
   "source": [
    "Finally, we want to concatenate these tables into a single table which will have a single `Condition` column, a column each for the HR mean and standard deviation. This is accomplished using `Table.join()`:"
   ]
  },
  {
   "cell_type": "code",
   "execution_count": null,
   "metadata": {
    "scrolled": true
   },
   "outputs": [],
   "source": [
    "class_data = averages.join(\"Condition\", sdevs)\n",
    "\n",
    "# DO NOT EDIT ANY CODE BELOW THIS COMMENT\n",
    "# maintaining the order of the Condition variable\n",
    "conditions = [\"Warm temperature\", \"Cold temperature\", \"Epinephrine\", \"Acetylcholine\", \"KCl\", \"CaCl2\"]\n",
    "class_data = Table.from_df(class_data.to_df().set_index(\"Condition\").reindex(conditions).reset_index())\n",
    "class_data"
   ]
  },
  {
   "cell_type": "markdown",
   "metadata": {},
   "source": [
    "### 2c. Graphing class data <a id=\"section_2c\"></a>\n",
    "\n",
    "Before we have you graph the class data, let's consider how to add error bars to a bar graph. Consider the bar plot below using our `groceries` table from earlier. Note here that instead of selecting out the columns we want, we use `Table.drop()` to drop the tables that we _don't_ want."
   ]
  },
  {
   "cell_type": "code",
   "execution_count": null,
   "metadata": {
    "scrolled": true
   },
   "outputs": [],
   "source": [
    "groceries.drop(\"Quantity\", \"Weight\").barh(\"Item Name\")"
   ]
  },
  {
   "cell_type": "markdown",
   "metadata": {},
   "source": [
    "Let's say we want to (quite arbitrarily) include error bars to $\\pm$ 20% of the values shown in the bar graph. We would start by adding these errors to the table:"
   ]
  },
  {
   "cell_type": "code",
   "execution_count": null,
   "metadata": {
    "scrolled": true
   },
   "outputs": [],
   "source": [
    "groceries = groceries.with_column(\n",
    "    \"Price Error\", [.2 * i for i in groceries.column(\"Price\")]\n",
    ")\n",
    "groceries"
   ]
  },
  {
   "cell_type": "markdown",
   "metadata": {},
   "source": [
    "To generate a plot with error bars, we just need to pass the `xerr` argument to `Table.barh()`."
   ]
  },
  {
   "cell_type": "code",
   "execution_count": null,
   "metadata": {
    "scrolled": true
   },
   "outputs": [],
   "source": [
    "groceries.drop(\"Quantity\", \"Weight\", \"Price Error\").barh(\"Item Name\", \n",
    "                                                         xerr=np.flip(groceries.column(\"Price Error\")))"
   ]
  },
  {
   "cell_type": "markdown",
   "metadata": {},
   "source": [
    "The essential part of the code is adding the `xerr` parameter to the `Table.barh()` call. Note that we passed the _array_ of values to `xerr`, **not** the column name. Note also that we had to reverse the array (using `np.flip`) because of the difference in how `matplotlib` and `datascience` interpret axes."
   ]
  },
  {
   "cell_type": "markdown",
   "metadata": {},
   "source": [
    "#### Graph: Change in Heart Rate and Standard Deviation Error (from Class Data)"
   ]
  },
  {
   "cell_type": "markdown",
   "metadata": {},
   "source": [
    "<div class=\"alert alert-block alert-info\">\n",
    "    \n",
    "**QUESTION:** Use the class_data table we just created to make a bar graph of the average data for heart rate. _Include error bars using the standard deviation as the error._ To make your graph easier to read, include a vertical line at $x=0$ by adding `plt.axvline(x=0, color=\"k\")` to your solution.\n",
    "\n",
    "</div>\n",
    "\n",
    "_Hint:_ You already have the error information in the `class_data` table since we put the standard deviations in earlier."
   ]
  },
  {
   "cell_type": "code",
   "execution_count": null,
   "metadata": {
    "scrolled": true
   },
   "outputs": [],
   "source": [
    "..."
   ]
  },
  {
   "cell_type": "markdown",
   "metadata": {},
   "source": [
    "---\n",
    "### Saving the Notebook as a PDF\n",
    "\n",
    "Congrats on finishing your first lab notebook! To turn in this lab assignment follow the steps below:\n",
    "\n",
    ">1. Press `Control + P` (or `Command + P` on Mac) to open the Print preview\n",
    "2. Change the destination so that it saves locally on your own computer.\n",
    "3. Save as PDF\n",
    "4. If you are stuck, follow further instructions [here](https://www.wikihow.com/Save-a-Web-Page-as-a-PDF-in-Google-Chrome).\n",
    "\n",
    "<div class=\"alert alert-warning\">\n",
    "\n",
    "You must also submit your tables with your lab report. To do this, take a screenshot of this notebook or of the PDF you just made, crop it to your table, and add this to your report.\n",
    "\n",
    "</div>\n",
    "\n",
    "Your lab instructor will explain to you what to do afterwards.\n",
    "---\n",
    "#### References\n",
    "\n",
    "- UC Berkeley Foundations of Data Science (Data 8) Textbook: https://www.inferentialthinking.com/chapters/intro\n",
    "\n",
    "---\n",
    "\n",
    "Notebook developed by: Samantha Yuan and Chris Pyles\n",
    "\n",
    "Data Science Modules: http://data.berkeley.edu/education/modules\n"
   ]
  },
  {
   "cell_type": "markdown",
   "metadata": {},
   "source": [
    " "
   ]
  }
 ],
 "metadata": {
  "@webio": {
   "lastCommId": null,
   "lastKernelId": null
  },
  "celltoolbar": "Raw Cell Format",
  "kernelspec": {
   "display_name": "Python 3",
   "language": "python",
   "name": "python3"
  },
  "language_info": {
   "codemirror_mode": {
    "name": "ipython",
    "version": 3
   },
   "file_extension": ".py",
   "mimetype": "text/x-python",
   "name": "python",
   "nbconvert_exporter": "python",
   "pygments_lexer": "ipython3",
   "version": "3.11.2"
  },
  "varInspector": {
   "cols": {
    "lenName": 16,
    "lenType": 16,
    "lenVar": 40
   },
   "kernels_config": {
    "python": {
     "delete_cmd_postfix": "",
     "delete_cmd_prefix": "del ",
     "library": "var_list.py",
     "varRefreshCmd": "print(var_dic_list())"
    },
    "r": {
     "delete_cmd_postfix": ") ",
     "delete_cmd_prefix": "rm(",
     "library": "var_list.r",
     "varRefreshCmd": "cat(var_dic_list()) "
    }
   },
   "types_to_exclude": [
    "module",
    "function",
    "builtin_function_or_method",
    "instance",
    "_Feature"
   ],
   "window_display": false
  }
 },
 "nbformat": 4,
 "nbformat_minor": 2
}
